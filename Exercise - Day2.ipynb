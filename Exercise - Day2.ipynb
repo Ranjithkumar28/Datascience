{
 "cells": [
  {
   "cell_type": "markdown",
   "metadata": {},
   "source": [
    "### The questions for the exercises are given above the cells and the expected output is given below the cell. Please type the code inserting a new cell below the question because if you run the expected output cell the output would vanish! Happy learning! "
   ]
  },
  {
   "cell_type": "markdown",
   "metadata": {},
   "source": [
    "## 1. Write a Python program to find those numbers which are divisible by 7 and multiple of 5, between 1500 and 2700 (both included). "
   ]
  },
  {
   "cell_type": "code",
   "execution_count": 6,
   "metadata": {},
   "outputs": [
    {
     "name": "stdout",
     "output_type": "stream",
     "text": [
      "1505 1540 1575 1610 1645 1680 1715 1750 1785 1820 1855 1890 1925 1960 1995 2030 2065 2100 2135 2170 2205 2240 2275 2310 2345 2380 2415 2450 2485 2520 2555 2590 2625 2660 2695 "
     ]
    }
   ],
   "source": [
    "# 1. Write a Python program to find those numbers which are divisible by 7 and multiple of 5, between 1500 and 2700 (both included).\n",
    "for i in range(1500,2700):\n",
    "    if (i%7==0 and i%5==0):\n",
    "        print(i, end=\" \")\n",
    "        "
   ]
  },
  {
   "cell_type": "markdown",
   "metadata": {},
   "source": [
    "## 2. Write a Python program to construct the following pattern, using a nested for loop.\n"
   ]
  },
  {
   "cell_type": "code",
   "execution_count": 1,
   "metadata": {},
   "outputs": [
    {
     "name": "stdout",
     "output_type": "stream",
     "text": [
      "\n",
      " *\n",
      " * *\n",
      " * * *\n",
      " * * * *\n",
      " * * * * *\n",
      " * * * *\n",
      " * * *\n",
      " * *\n",
      " *\n"
     ]
    }
   ],
   "source": [
    "# 2. Write a Python program to construct the following pattern, using a nested for loop    \n",
    "for x,y,z in ([0,5,1], [5,0,-1]):\n",
    "    for i in range(x,y,z):\n",
    "        print(i*' *')"
   ]
  },
  {
   "cell_type": "markdown",
   "metadata": {},
   "source": [
    "## 3. Write a Python program to count the number of even and odd numbers from a series of numbers."
   ]
  },
  {
   "cell_type": "code",
   "execution_count": 5,
   "metadata": {},
   "outputs": [
    {
     "name": "stdout",
     "output_type": "stream",
     "text": [
      "Number of even numbers in the series: 117\n",
      "Number of odd numbers in the series 116\n"
     ]
    }
   ],
   "source": [
    "# 3. Write a Python program to count the number of even and odd numbers from a series of numbers\n",
    "even_count = 0\n",
    "odd_count = 0\n",
    "for i in range(1000,1233):\n",
    "    if (i%2==0):\n",
    "        even_count = even_count+1\n",
    "    else:\n",
    "        odd_count = odd_count+1\n",
    "print(\"Number of even numbers in the series:\", even_count)\n",
    "print(\"Number of odd numbers in the series\", odd_count)"
   ]
  },
  {
   "cell_type": "markdown",
   "metadata": {},
   "source": [
    "## 4. Write a Python program to find numbers between 100 and 400 (both included) where each digit of a number is an even number. The numbers obtained should be printed in a comma-separated sequence."
   ]
  },
  {
   "cell_type": "code",
   "execution_count": 7,
   "metadata": {},
   "outputs": [
    {
     "name": "stdout",
     "output_type": "stream",
     "text": [
      "200,202,204,206,208,220,222,224,226,228,240,242,244,246,248,260,262,264,266,268,280,282,284,286,288,400,"
     ]
    }
   ],
   "source": [
    "# 4. Write a Python program to find numbers between 100 and 400 (both included) where each digit of a number is an even number. The numbers obtained should be printed in a comma-separated sequence.\n",
    "for i in range(100,401):\n",
    "    if (int(str(i)[0])%2==0 and int(str(i)[1])%2==0 and int(str(i)[2])%2==0):\n",
    "        print(i, end=\",\")"
   ]
  },
  {
   "cell_type": "markdown",
   "metadata": {},
   "source": [
    "## 5. Write a Python program to calculate a dog's age in dog's years. Go to the editor\n",
    "Note: For the first two years, a dog year is equal to 10.5 human years. After that, each dog year equals 4 human years."
   ]
  },
  {
   "cell_type": "code",
   "execution_count": 4,
   "metadata": {},
   "outputs": [
    {
     "name": "stdout",
     "output_type": "stream",
     "text": [
      "Input a dog's age in human years : 20\n",
      "The dog's age in dog's years is :  93\n"
     ]
    }
   ],
   "source": [
    "# 5. Write a Python program to calculate a dog's age in dog's years. Go to the editor\n",
    "def calcAge(age):\n",
    "        return int((2*10.5)+((age-2)*4))\n",
    "    \n",
    "input_num = int(input(\"Input a dog's age in human years : \"))\n",
    "print(\"The dog's age in dog's years is : \", calcAge(input_num))"
   ]
  },
  {
   "cell_type": "markdown",
   "metadata": {},
   "source": [
    "## 6. Write a Python function to find the Max of three numbers."
   ]
  },
  {
   "cell_type": "code",
   "execution_count": 8,
   "metadata": {},
   "outputs": [
    {
     "name": "stdout",
     "output_type": "stream",
     "text": [
      "Enter the First Number :2\n",
      "Enter the First Number :4\n",
      "Enter the First Number :5\n",
      "Greatest number is: 5\n"
     ]
    }
   ],
   "source": [
    "# 6. Write a Python function to find the Max of three numbers.\n",
    "def maxNumber(a=0,b=0,c=0):\n",
    "    if (a>b and a>c):\n",
    "        return a\n",
    "    elif (b>a and b>c):\n",
    "        return b\n",
    "    else:\n",
    "        return c\n",
    "a = int(input(\"Enter the First Number :\"))\n",
    "b = int(input(\"Enter the First Number :\"))\n",
    "c = int(input(\"Enter the First Number :\"))\n",
    "print(\"Greatest number is:\", maxNumber(a,b,c))"
   ]
  },
  {
   "cell_type": "markdown",
   "metadata": {},
   "source": [
    "## 7. Write a Python function that takes a number as a parameter and check the number is prime or not."
   ]
  },
  {
   "cell_type": "code",
   "execution_count": 3,
   "metadata": {},
   "outputs": [
    {
     "name": "stdout",
     "output_type": "stream",
     "text": [
      "Enter the number : 11\n",
      "11 is not a prime number\n"
     ]
    }
   ],
   "source": [
    "# 7. Write a Python function that takes a number as a parameter and check the number is prime or not.\n",
    "def isprime(num):\n",
    "    if num > 1:\n",
    "        for i in range(2, num//2):\n",
    "            if (i%2==0):\n",
    "                print(num, \"is not a prime number\") \n",
    "                break\n",
    "            else:\n",
    "                print(num, \"is a prime number\")\n",
    "    else:\n",
    "        print(num, \"is not a prime number\") \n",
    "input_num = int(input(\"Enter the number : \"))\n",
    "isprime(input_num)"
   ]
  },
  {
   "cell_type": "markdown",
   "metadata": {},
   "source": [
    "## 8. Write a Python function that accepts a string and calculate the number of upper case letters and lower case letters. Go to the editor\n"
   ]
  },
  {
   "cell_type": "code",
   "execution_count": 9,
   "metadata": {},
   "outputs": [
    {
     "name": "stdout",
     "output_type": "stream",
     "text": [
      "Original Str=1ing : Inceptz is One of The BeSt Places TO LEarn DataSciEnce\n",
      "No. of Upper case characters : 22\n",
      "No. of Lower case Characters : 32\n"
     ]
    }
   ],
   "source": [
    "# 8. Write a Python function that accepts a string and calculate the number of upper case letters and lower case letters. Go to the editor\n",
    "original_str = \"Inceptz is One of The BeSt Places TO LEarn DataSciEnce\"\n",
    "lower_count = 0\n",
    "upper_count = 0\n",
    "for i in original_str:\n",
    "    if (i.islower()):\n",
    "        lower_count = lower_count + 1\n",
    "    else:\n",
    "        upper_count = upper_count + 1\n",
    "print(\"Original Str=1ing :\", original_str)\n",
    "print(\"No. of Upper case characters :\", upper_count)\n",
    "print(\"No. of Lower case Characters :\", lower_count)"
   ]
  },
  {
   "cell_type": "markdown",
   "metadata": {},
   "source": [
    "## 9. Write a Python program to reverse a string. "
   ]
  },
  {
   "cell_type": "code",
   "execution_count": 10,
   "metadata": {},
   "outputs": [
    {
     "name": "stdout",
     "output_type": "stream",
     "text": [
      "Enter the String:data\n",
      "The original string is : data\n",
      "The reversed string is : atad\n"
     ]
    }
   ],
   "source": [
    "# 9. Write a Python program to reverse a string.\n",
    "input_str = input(\"Enter the String:\")\n",
    "print(\"The original string is :\", input_str)\n",
    "print(\"The reversed string is :\", input_str[::-1])"
   ]
  },
  {
   "cell_type": "markdown",
   "metadata": {},
   "source": [
    "## 10. Write a Python program to find  the greatest common divisor (gcd) of two integers."
   ]
  },
  {
   "cell_type": "code",
   "execution_count": 2,
   "metadata": {},
   "outputs": [
    {
     "name": "stdout",
     "output_type": "stream",
     "text": [
      "Enter the first number : 12\n",
      "Enter the second number : 24\n",
      "GCD of given number is :  12\n"
     ]
    }
   ],
   "source": [
    "# 10. Write a Python program to find the greatest common divisor (gcd) of two integers.\n",
    "def gcd(a, b):\n",
    "    if (b == 0):\n",
    "        return a\n",
    "    return gcd(b, a%b)\n",
    "a = int(input(\"Enter the first number : \"))\n",
    "b = int(input(\"Enter the second number : \"))\n",
    "print(\"GCD of given number is : \", gcd(a,b));"
   ]
  }
 ],
 "metadata": {
  "kernelspec": {
   "display_name": "Python 3",
   "language": "python",
   "name": "python3"
  },
  "language_info": {
   "codemirror_mode": {
    "name": "ipython",
    "version": 3
   },
   "file_extension": ".py",
   "mimetype": "text/x-python",
   "name": "python",
   "nbconvert_exporter": "python",
   "pygments_lexer": "ipython3",
   "version": "3.7.6"
  }
 },
 "nbformat": 4,
 "nbformat_minor": 4
}
