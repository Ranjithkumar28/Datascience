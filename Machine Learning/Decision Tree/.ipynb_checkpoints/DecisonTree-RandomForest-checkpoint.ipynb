{
 "cells": [
  {
   "cell_type": "code",
   "execution_count": 1,
   "metadata": {},
   "outputs": [],
   "source": [
    "import pandas as pd\n",
    "import numpy as np\n",
    "import matplotlib.pyplot as plt\n",
    "%matplotlib inline\n",
    "from sklearn.preprocessing import StandardScaler\n",
    "from sklearn.linear_model import LogisticRegression\n",
    "from sklearn.tree import DecisionTreeClassifier\n",
    "from sklearn.model_selection import train_test_split\n",
    "from sklearn.metrics import accuracy_score\n",
    "from sklearn.preprocessing import PolynomialFeatures\n",
    "import warnings\n",
    "warnings.filterwarnings(\"ignore\")\n",
    "np.random.seed(42)"
   ]
  },
  {
   "cell_type": "code",
   "execution_count": 2,
   "metadata": {},
   "outputs": [],
   "source": [
    "df = pd.read_csv(\"http://archive.ics.uci.edu/ml/machine-learning-databases/wine-quality/winequality-white.csv\", sep=\";\")\n",
    "y = df.pop(\"quality\")"
   ]
  },
  {
   "cell_type": "code",
   "execution_count": 3,
   "metadata": {},
   "outputs": [
    {
     "data": {
      "text/html": [
       "<div>\n",
       "<style scoped>\n",
       "    .dataframe tbody tr th:only-of-type {\n",
       "        vertical-align: middle;\n",
       "    }\n",
       "\n",
       "    .dataframe tbody tr th {\n",
       "        vertical-align: top;\n",
       "    }\n",
       "\n",
       "    .dataframe thead th {\n",
       "        text-align: right;\n",
       "    }\n",
       "</style>\n",
       "<table border=\"1\" class=\"dataframe\">\n",
       "  <thead>\n",
       "    <tr style=\"text-align: right;\">\n",
       "      <th></th>\n",
       "      <th>fixed acidity</th>\n",
       "      <th>volatile acidity</th>\n",
       "      <th>citric acid</th>\n",
       "      <th>residual sugar</th>\n",
       "      <th>chlorides</th>\n",
       "      <th>free sulfur dioxide</th>\n",
       "      <th>total sulfur dioxide</th>\n",
       "      <th>density</th>\n",
       "      <th>pH</th>\n",
       "      <th>sulphates</th>\n",
       "      <th>alcohol</th>\n",
       "    </tr>\n",
       "  </thead>\n",
       "  <tbody>\n",
       "    <tr>\n",
       "      <th>0</th>\n",
       "      <td>7.0</td>\n",
       "      <td>0.27</td>\n",
       "      <td>0.36</td>\n",
       "      <td>20.7</td>\n",
       "      <td>0.045</td>\n",
       "      <td>45.0</td>\n",
       "      <td>170.0</td>\n",
       "      <td>1.0010</td>\n",
       "      <td>3.00</td>\n",
       "      <td>0.45</td>\n",
       "      <td>8.8</td>\n",
       "    </tr>\n",
       "    <tr>\n",
       "      <th>1</th>\n",
       "      <td>6.3</td>\n",
       "      <td>0.30</td>\n",
       "      <td>0.34</td>\n",
       "      <td>1.6</td>\n",
       "      <td>0.049</td>\n",
       "      <td>14.0</td>\n",
       "      <td>132.0</td>\n",
       "      <td>0.9940</td>\n",
       "      <td>3.30</td>\n",
       "      <td>0.49</td>\n",
       "      <td>9.5</td>\n",
       "    </tr>\n",
       "    <tr>\n",
       "      <th>2</th>\n",
       "      <td>8.1</td>\n",
       "      <td>0.28</td>\n",
       "      <td>0.40</td>\n",
       "      <td>6.9</td>\n",
       "      <td>0.050</td>\n",
       "      <td>30.0</td>\n",
       "      <td>97.0</td>\n",
       "      <td>0.9951</td>\n",
       "      <td>3.26</td>\n",
       "      <td>0.44</td>\n",
       "      <td>10.1</td>\n",
       "    </tr>\n",
       "    <tr>\n",
       "      <th>3</th>\n",
       "      <td>7.2</td>\n",
       "      <td>0.23</td>\n",
       "      <td>0.32</td>\n",
       "      <td>8.5</td>\n",
       "      <td>0.058</td>\n",
       "      <td>47.0</td>\n",
       "      <td>186.0</td>\n",
       "      <td>0.9956</td>\n",
       "      <td>3.19</td>\n",
       "      <td>0.40</td>\n",
       "      <td>9.9</td>\n",
       "    </tr>\n",
       "    <tr>\n",
       "      <th>4</th>\n",
       "      <td>7.2</td>\n",
       "      <td>0.23</td>\n",
       "      <td>0.32</td>\n",
       "      <td>8.5</td>\n",
       "      <td>0.058</td>\n",
       "      <td>47.0</td>\n",
       "      <td>186.0</td>\n",
       "      <td>0.9956</td>\n",
       "      <td>3.19</td>\n",
       "      <td>0.40</td>\n",
       "      <td>9.9</td>\n",
       "    </tr>\n",
       "  </tbody>\n",
       "</table>\n",
       "</div>"
      ],
      "text/plain": [
       "   fixed acidity  volatile acidity  citric acid  residual sugar  chlorides  \\\n",
       "0            7.0              0.27         0.36            20.7      0.045   \n",
       "1            6.3              0.30         0.34             1.6      0.049   \n",
       "2            8.1              0.28         0.40             6.9      0.050   \n",
       "3            7.2              0.23         0.32             8.5      0.058   \n",
       "4            7.2              0.23         0.32             8.5      0.058   \n",
       "\n",
       "   free sulfur dioxide  total sulfur dioxide  density    pH  sulphates  \\\n",
       "0                 45.0                 170.0   1.0010  3.00       0.45   \n",
       "1                 14.0                 132.0   0.9940  3.30       0.49   \n",
       "2                 30.0                  97.0   0.9951  3.26       0.44   \n",
       "3                 47.0                 186.0   0.9956  3.19       0.40   \n",
       "4                 47.0                 186.0   0.9956  3.19       0.40   \n",
       "\n",
       "   alcohol  \n",
       "0      8.8  \n",
       "1      9.5  \n",
       "2     10.1  \n",
       "3      9.9  \n",
       "4      9.9  "
      ]
     },
     "execution_count": 3,
     "metadata": {},
     "output_type": "execute_result"
    }
   ],
   "source": [
    "df.head()"
   ]
  },
  {
   "cell_type": "code",
   "execution_count": 4,
   "metadata": {},
   "outputs": [
    {
     "name": "stdout",
     "output_type": "stream",
     "text": [
      "<class 'pandas.core.frame.DataFrame'>\n",
      "RangeIndex: 4898 entries, 0 to 4897\n",
      "Data columns (total 11 columns):\n",
      " #   Column                Non-Null Count  Dtype  \n",
      "---  ------                --------------  -----  \n",
      " 0   fixed acidity         4898 non-null   float64\n",
      " 1   volatile acidity      4898 non-null   float64\n",
      " 2   citric acid           4898 non-null   float64\n",
      " 3   residual sugar        4898 non-null   float64\n",
      " 4   chlorides             4898 non-null   float64\n",
      " 5   free sulfur dioxide   4898 non-null   float64\n",
      " 6   total sulfur dioxide  4898 non-null   float64\n",
      " 7   density               4898 non-null   float64\n",
      " 8   pH                    4898 non-null   float64\n",
      " 9   sulphates             4898 non-null   float64\n",
      " 10  alcohol               4898 non-null   float64\n",
      "dtypes: float64(11)\n",
      "memory usage: 421.0 KB\n"
     ]
    }
   ],
   "source": [
    "df.info()"
   ]
  },
  {
   "cell_type": "code",
   "execution_count": 5,
   "metadata": {},
   "outputs": [
    {
     "data": {
      "text/plain": [
       "chlorides               1\n",
       "pH                      1\n",
       "fixed acidity           1\n",
       "density                 1\n",
       "volatile acidity        1\n",
       "alcohol                 1\n",
       "total sulfur dioxide    1\n",
       "free sulfur dioxide     1\n",
       "sulphates               1\n",
       "residual sugar          1\n",
       "citric acid             1\n",
       "dtype: int64"
      ]
     },
     "execution_count": 5,
     "metadata": {},
     "output_type": "execute_result"
    }
   ],
   "source": [
    "df.columns.value_counts()"
   ]
  },
  {
   "cell_type": "code",
   "execution_count": 6,
   "metadata": {},
   "outputs": [
    {
     "data": {
      "text/plain": [
       "6    2198\n",
       "5    1457\n",
       "7     880\n",
       "8     175\n",
       "4     163\n",
       "3      20\n",
       "9       5\n",
       "Name: quality, dtype: int64"
      ]
     },
     "execution_count": 6,
     "metadata": {},
     "output_type": "execute_result"
    }
   ],
   "source": [
    "y.value_counts()"
   ]
  },
  {
   "cell_type": "code",
   "execution_count": 7,
   "metadata": {},
   "outputs": [],
   "source": [
    "for i in df.columns:\n",
    "    df[i] = df[i].fillna(np.mean(df[i]))"
   ]
  },
  {
   "cell_type": "code",
   "execution_count": 8,
   "metadata": {},
   "outputs": [
    {
     "data": {
      "text/html": [
       "<div>\n",
       "<style scoped>\n",
       "    .dataframe tbody tr th:only-of-type {\n",
       "        vertical-align: middle;\n",
       "    }\n",
       "\n",
       "    .dataframe tbody tr th {\n",
       "        vertical-align: top;\n",
       "    }\n",
       "\n",
       "    .dataframe thead th {\n",
       "        text-align: right;\n",
       "    }\n",
       "</style>\n",
       "<table border=\"1\" class=\"dataframe\">\n",
       "  <thead>\n",
       "    <tr style=\"text-align: right;\">\n",
       "      <th></th>\n",
       "      <th>fixed acidity</th>\n",
       "      <th>volatile acidity</th>\n",
       "      <th>citric acid</th>\n",
       "      <th>residual sugar</th>\n",
       "      <th>chlorides</th>\n",
       "      <th>free sulfur dioxide</th>\n",
       "      <th>total sulfur dioxide</th>\n",
       "      <th>density</th>\n",
       "      <th>pH</th>\n",
       "      <th>sulphates</th>\n",
       "      <th>alcohol</th>\n",
       "    </tr>\n",
       "  </thead>\n",
       "  <tbody>\n",
       "    <tr>\n",
       "      <th>0</th>\n",
       "      <td>7.0</td>\n",
       "      <td>0.27</td>\n",
       "      <td>0.36</td>\n",
       "      <td>20.7</td>\n",
       "      <td>0.045</td>\n",
       "      <td>45.0</td>\n",
       "      <td>170.0</td>\n",
       "      <td>1.00100</td>\n",
       "      <td>3.00</td>\n",
       "      <td>0.45</td>\n",
       "      <td>8.8</td>\n",
       "    </tr>\n",
       "    <tr>\n",
       "      <th>1</th>\n",
       "      <td>6.3</td>\n",
       "      <td>0.30</td>\n",
       "      <td>0.34</td>\n",
       "      <td>1.6</td>\n",
       "      <td>0.049</td>\n",
       "      <td>14.0</td>\n",
       "      <td>132.0</td>\n",
       "      <td>0.99400</td>\n",
       "      <td>3.30</td>\n",
       "      <td>0.49</td>\n",
       "      <td>9.5</td>\n",
       "    </tr>\n",
       "    <tr>\n",
       "      <th>2</th>\n",
       "      <td>8.1</td>\n",
       "      <td>0.28</td>\n",
       "      <td>0.40</td>\n",
       "      <td>6.9</td>\n",
       "      <td>0.050</td>\n",
       "      <td>30.0</td>\n",
       "      <td>97.0</td>\n",
       "      <td>0.99510</td>\n",
       "      <td>3.26</td>\n",
       "      <td>0.44</td>\n",
       "      <td>10.1</td>\n",
       "    </tr>\n",
       "    <tr>\n",
       "      <th>3</th>\n",
       "      <td>7.2</td>\n",
       "      <td>0.23</td>\n",
       "      <td>0.32</td>\n",
       "      <td>8.5</td>\n",
       "      <td>0.058</td>\n",
       "      <td>47.0</td>\n",
       "      <td>186.0</td>\n",
       "      <td>0.99560</td>\n",
       "      <td>3.19</td>\n",
       "      <td>0.40</td>\n",
       "      <td>9.9</td>\n",
       "    </tr>\n",
       "    <tr>\n",
       "      <th>4</th>\n",
       "      <td>7.2</td>\n",
       "      <td>0.23</td>\n",
       "      <td>0.32</td>\n",
       "      <td>8.5</td>\n",
       "      <td>0.058</td>\n",
       "      <td>47.0</td>\n",
       "      <td>186.0</td>\n",
       "      <td>0.99560</td>\n",
       "      <td>3.19</td>\n",
       "      <td>0.40</td>\n",
       "      <td>9.9</td>\n",
       "    </tr>\n",
       "    <tr>\n",
       "      <th>...</th>\n",
       "      <td>...</td>\n",
       "      <td>...</td>\n",
       "      <td>...</td>\n",
       "      <td>...</td>\n",
       "      <td>...</td>\n",
       "      <td>...</td>\n",
       "      <td>...</td>\n",
       "      <td>...</td>\n",
       "      <td>...</td>\n",
       "      <td>...</td>\n",
       "      <td>...</td>\n",
       "    </tr>\n",
       "    <tr>\n",
       "      <th>4893</th>\n",
       "      <td>6.2</td>\n",
       "      <td>0.21</td>\n",
       "      <td>0.29</td>\n",
       "      <td>1.6</td>\n",
       "      <td>0.039</td>\n",
       "      <td>24.0</td>\n",
       "      <td>92.0</td>\n",
       "      <td>0.99114</td>\n",
       "      <td>3.27</td>\n",
       "      <td>0.50</td>\n",
       "      <td>11.2</td>\n",
       "    </tr>\n",
       "    <tr>\n",
       "      <th>4894</th>\n",
       "      <td>6.6</td>\n",
       "      <td>0.32</td>\n",
       "      <td>0.36</td>\n",
       "      <td>8.0</td>\n",
       "      <td>0.047</td>\n",
       "      <td>57.0</td>\n",
       "      <td>168.0</td>\n",
       "      <td>0.99490</td>\n",
       "      <td>3.15</td>\n",
       "      <td>0.46</td>\n",
       "      <td>9.6</td>\n",
       "    </tr>\n",
       "    <tr>\n",
       "      <th>4895</th>\n",
       "      <td>6.5</td>\n",
       "      <td>0.24</td>\n",
       "      <td>0.19</td>\n",
       "      <td>1.2</td>\n",
       "      <td>0.041</td>\n",
       "      <td>30.0</td>\n",
       "      <td>111.0</td>\n",
       "      <td>0.99254</td>\n",
       "      <td>2.99</td>\n",
       "      <td>0.46</td>\n",
       "      <td>9.4</td>\n",
       "    </tr>\n",
       "    <tr>\n",
       "      <th>4896</th>\n",
       "      <td>5.5</td>\n",
       "      <td>0.29</td>\n",
       "      <td>0.30</td>\n",
       "      <td>1.1</td>\n",
       "      <td>0.022</td>\n",
       "      <td>20.0</td>\n",
       "      <td>110.0</td>\n",
       "      <td>0.98869</td>\n",
       "      <td>3.34</td>\n",
       "      <td>0.38</td>\n",
       "      <td>12.8</td>\n",
       "    </tr>\n",
       "    <tr>\n",
       "      <th>4897</th>\n",
       "      <td>6.0</td>\n",
       "      <td>0.21</td>\n",
       "      <td>0.38</td>\n",
       "      <td>0.8</td>\n",
       "      <td>0.020</td>\n",
       "      <td>22.0</td>\n",
       "      <td>98.0</td>\n",
       "      <td>0.98941</td>\n",
       "      <td>3.26</td>\n",
       "      <td>0.32</td>\n",
       "      <td>11.8</td>\n",
       "    </tr>\n",
       "  </tbody>\n",
       "</table>\n",
       "<p>4898 rows × 11 columns</p>\n",
       "</div>"
      ],
      "text/plain": [
       "      fixed acidity  volatile acidity  citric acid  residual sugar  chlorides  \\\n",
       "0               7.0              0.27         0.36            20.7      0.045   \n",
       "1               6.3              0.30         0.34             1.6      0.049   \n",
       "2               8.1              0.28         0.40             6.9      0.050   \n",
       "3               7.2              0.23         0.32             8.5      0.058   \n",
       "4               7.2              0.23         0.32             8.5      0.058   \n",
       "...             ...               ...          ...             ...        ...   \n",
       "4893            6.2              0.21         0.29             1.6      0.039   \n",
       "4894            6.6              0.32         0.36             8.0      0.047   \n",
       "4895            6.5              0.24         0.19             1.2      0.041   \n",
       "4896            5.5              0.29         0.30             1.1      0.022   \n",
       "4897            6.0              0.21         0.38             0.8      0.020   \n",
       "\n",
       "      free sulfur dioxide  total sulfur dioxide  density    pH  sulphates  \\\n",
       "0                    45.0                 170.0  1.00100  3.00       0.45   \n",
       "1                    14.0                 132.0  0.99400  3.30       0.49   \n",
       "2                    30.0                  97.0  0.99510  3.26       0.44   \n",
       "3                    47.0                 186.0  0.99560  3.19       0.40   \n",
       "4                    47.0                 186.0  0.99560  3.19       0.40   \n",
       "...                   ...                   ...      ...   ...        ...   \n",
       "4893                 24.0                  92.0  0.99114  3.27       0.50   \n",
       "4894                 57.0                 168.0  0.99490  3.15       0.46   \n",
       "4895                 30.0                 111.0  0.99254  2.99       0.46   \n",
       "4896                 20.0                 110.0  0.98869  3.34       0.38   \n",
       "4897                 22.0                  98.0  0.98941  3.26       0.32   \n",
       "\n",
       "      alcohol  \n",
       "0         8.8  \n",
       "1         9.5  \n",
       "2        10.1  \n",
       "3         9.9  \n",
       "4         9.9  \n",
       "...       ...  \n",
       "4893     11.2  \n",
       "4894      9.6  \n",
       "4895      9.4  \n",
       "4896     12.8  \n",
       "4897     11.8  \n",
       "\n",
       "[4898 rows x 11 columns]"
      ]
     },
     "execution_count": 8,
     "metadata": {},
     "output_type": "execute_result"
    }
   ],
   "source": [
    "df"
   ]
  },
  {
   "cell_type": "code",
   "execution_count": 9,
   "metadata": {},
   "outputs": [],
   "source": [
    "train, test, y_train, y_test = train_test_split(\n",
    "     df, y, test_size=0.2, random_state=101)"
   ]
  },
  {
   "cell_type": "code",
   "execution_count": 10,
   "metadata": {},
   "outputs": [],
   "source": [
    "lr = LogisticRegression()"
   ]
  },
  {
   "cell_type": "code",
   "execution_count": 11,
   "metadata": {},
   "outputs": [
    {
     "data": {
      "text/plain": [
       "LogisticRegression(C=1.0, class_weight=None, dual=False, fit_intercept=True,\n",
       "                   intercept_scaling=1, l1_ratio=None, max_iter=100,\n",
       "                   multi_class='auto', n_jobs=None, penalty='l2',\n",
       "                   random_state=None, solver='lbfgs', tol=0.0001, verbose=0,\n",
       "                   warm_start=False)"
      ]
     },
     "execution_count": 11,
     "metadata": {},
     "output_type": "execute_result"
    }
   ],
   "source": [
    "lr.fit(train, y_train)"
   ]
  },
  {
   "cell_type": "code",
   "execution_count": 12,
   "metadata": {
    "scrolled": true
   },
   "outputs": [
    {
     "name": "stdout",
     "output_type": "stream",
     "text": [
      "Accuracy score baseline 0.47346938775510206\n"
     ]
    }
   ],
   "source": [
    "y_pred = lr.predict(test)\n",
    "print(\"Accuracy score baseline\", accuracy_score(y_test, y_pred))"
   ]
  },
  {
   "cell_type": "code",
   "execution_count": 13,
   "metadata": {},
   "outputs": [],
   "source": [
    "from sklearn.metrics import accuracy_score, classification_report, confusion_matrix,roc_auc_score"
   ]
  },
  {
   "cell_type": "code",
   "execution_count": 14,
   "metadata": {},
   "outputs": [
    {
     "name": "stdout",
     "output_type": "stream",
     "text": [
      "Confusion Matrix: [[  0   0   1   4   0   0]\n",
      " [  1   0  15  25   0   0]\n",
      " [  0   0 103 201   2   0]\n",
      " [  3   0  67 361   2   0]\n",
      " [  0   0  17 141   0   0]\n",
      " [  0   0   3  33   1   0]]\n",
      "Classification Report:               precision    recall  f1-score   support\n",
      "\n",
      "           3       0.00      0.00      0.00         5\n",
      "           4       0.00      0.00      0.00        41\n",
      "           5       0.50      0.34      0.40       306\n",
      "           6       0.47      0.83      0.60       433\n",
      "           7       0.00      0.00      0.00       158\n",
      "           8       0.00      0.00      0.00        37\n",
      "\n",
      "    accuracy                           0.47       980\n",
      "   macro avg       0.16      0.20      0.17       980\n",
      "weighted avg       0.36      0.47      0.39       980\n",
      "\n"
     ]
    }
   ],
   "source": [
    "print('Confusion Matrix:',confusion_matrix(y_test,y_pred))\n",
    "print('Classification Report:',classification_report(y_test,y_pred))"
   ]
  },
  {
   "cell_type": "code",
   "execution_count": 15,
   "metadata": {},
   "outputs": [],
   "source": [
    "def fit_predict(train, test, y_train, y_test, scaler, max_depth, \n",
    "                criterion = 'entropy', max_features = 1, min_samples_split = 4):\n",
    "    train_scaled = scaler.fit_transform(train)\n",
    "    test_scaled = scaler.transform(test)        \n",
    "    dt = DecisionTreeClassifier(criterion = criterion, max_depth=max_depth, \n",
    "                                random_state=42, max_features=max_features,\n",
    "                               min_samples_split=min_samples_split)\n",
    "    dt.fit(train_scaled, y_train)\n",
    "    y_pred = dt.predict(test_scaled)\n",
    "    print(accuracy_score(y_test, y_pred))\n"
   ]
  },
  {
   "cell_type": "code",
   "execution_count": 16,
   "metadata": {},
   "outputs": [
    {
     "name": "stdout",
     "output_type": "stream",
     "text": [
      "0.5989795918367347\n"
     ]
    }
   ],
   "source": [
    "dt = DecisionTreeClassifier()\n",
    "dt.fit(train, y_train)\n",
    "y_pred = dt.predict(test)\n",
    "print(accuracy_score(y_test, y_pred))"
   ]
  },
  {
   "cell_type": "markdown",
   "metadata": {},
   "source": [
    "### Max depth tuning"
   ]
  },
  {
   "cell_type": "code",
   "execution_count": 17,
   "metadata": {},
   "outputs": [
    {
     "name": "stdout",
     "output_type": "stream",
     "text": [
      "Accuracy score using max_depth =  1: 0.4418367346938776\n",
      "Accuracy score using max_depth =  2: 0.4418367346938776\n",
      "Accuracy score using max_depth =  3: 0.4326530612244898\n",
      "Accuracy score using max_depth =  4: 0.4489795918367347\n",
      "Accuracy score using max_depth =  5: 0.45918367346938777\n",
      "Accuracy score using max_depth =  6: 0.4704081632653061\n",
      "Accuracy score using max_depth =  7: 0.4806122448979592\n",
      "Accuracy score using max_depth =  8: 0.47653061224489796\n",
      "Accuracy score using max_depth =  9: 0.48673469387755103\n",
      "Accuracy score using max_depth =  10: 0.4928571428571429\n",
      "Accuracy score using max_depth =  11: 0.4857142857142857\n",
      "Accuracy score using max_depth =  12: 0.5346938775510204\n",
      "Accuracy score using max_depth =  13: 0.5346938775510204\n",
      "Accuracy score using max_depth =  14: 0.5469387755102041\n",
      "Accuracy score using max_depth =  15: 0.5448979591836735\n",
      "Accuracy score using max_depth =  16: 0.5428571428571428\n",
      "Accuracy score using max_depth =  17: 0.5418367346938775\n",
      "Accuracy score using max_depth =  18: 0.5540816326530612\n",
      "Accuracy score using max_depth =  19: 0.5561224489795918\n",
      "Accuracy score using max_depth =  20: 0.5489795918367347\n",
      "Accuracy score using max_depth =  21: 0.5418367346938775\n",
      "Accuracy score using max_depth =  22: 0.5551020408163265\n",
      "Accuracy score using max_depth =  23: 0.523469387755102\n",
      "Accuracy score using max_depth =  24: 0.5285714285714286\n",
      "Accuracy score using max_depth =  25: 0.5255102040816326\n",
      "Accuracy score using max_depth =  26: 0.5255102040816326\n",
      "Accuracy score using max_depth =  27: 0.5255102040816326\n",
      "Accuracy score using max_depth =  28: 0.5255102040816326\n",
      "Accuracy score using max_depth =  29: 0.5255102040816326\n"
     ]
    }
   ],
   "source": [
    "for i in range(1, 30):\n",
    "    print(\"Accuracy score using max_depth = \", i, end = ': ')\n",
    "    fit_predict(train, test, y_train, y_test, StandardScaler(), i)"
   ]
  },
  {
   "cell_type": "markdown",
   "metadata": {},
   "source": [
    "### Max feature tuning"
   ]
  },
  {
   "cell_type": "code",
   "execution_count": 18,
   "metadata": {},
   "outputs": [
    {
     "name": "stdout",
     "output_type": "stream",
     "text": [
      "Accuracy score using max_features =  0.1: 0.5255102040816326\n",
      "Accuracy score using max_features =  0.2: 0.6173469387755102\n",
      "Accuracy score using max_features =  0.30000000000000004: 0.5989795918367347\n",
      "Accuracy score using max_features =  0.4: 0.5928571428571429\n",
      "Accuracy score using max_features =  0.5: 0.576530612244898\n",
      "Accuracy score using max_features =  0.6: 0.5846938775510204\n",
      "Accuracy score using max_features =  0.7000000000000001: 0.5979591836734693\n",
      "Accuracy score using max_features =  0.8: 0.5683673469387756\n",
      "Accuracy score using max_features =  0.9: 0.5887755102040816\n"
     ]
    }
   ],
   "source": [
    "for i in np.arange(0.1,1.0,0.1):\n",
    "    print(\"Accuracy score using max_features = \", i, end = ': ')\n",
    "    fit_predict(train, test, y_train, y_test, StandardScaler(), max_depth=25, max_features=i)"
   ]
  },
  {
   "cell_type": "markdown",
   "metadata": {},
   "source": [
    "### Min Samples split tunning"
   ]
  },
  {
   "cell_type": "code",
   "execution_count": 19,
   "metadata": {},
   "outputs": [
    {
     "name": "stdout",
     "output_type": "stream",
     "text": [
      "Accuracy score using max_features =  2: 0.5938775510204082\n",
      "Accuracy score using max_features =  3: 0.5836734693877551\n",
      "Accuracy score using max_features =  4: 0.5989795918367347\n",
      "Accuracy score using max_features =  5: 0.5714285714285714\n",
      "Accuracy score using max_features =  6: 0.5744897959183674\n",
      "Accuracy score using max_features =  7: 0.5693877551020409\n",
      "Accuracy score using max_features =  8: 0.5683673469387756\n",
      "Accuracy score using max_features =  9: 0.55\n"
     ]
    }
   ],
   "source": [
    "for i in range(2,10):\n",
    "    print(\"Accuracy score using max_features = \", i, end = ': ')\n",
    "    fit_predict(train, test, y_train, y_test, StandardScaler(), max_depth=25, max_features=0.3, min_samples_split=i)"
   ]
  },
  {
   "cell_type": "markdown",
   "metadata": {},
   "source": [
    "###  Criterion Tunning"
   ]
  },
  {
   "cell_type": "code",
   "execution_count": 20,
   "metadata": {},
   "outputs": [
    {
     "name": "stdout",
     "output_type": "stream",
     "text": [
      "Accuracy score using criterion =  gini: 0.5938775510204082\n",
      "Accuracy score using criterion =  entropy: 0.5938775510204082\n"
     ]
    }
   ],
   "source": [
    "for i in ['gini', 'entropy']:\n",
    "    print(\"Accuracy score using criterion = \", i, end = ': ')\n",
    "    fit_predict(train, test, y_train, y_test, StandardScaler(), 25, max_features=0.3, min_samples_split=2, criterion=i) "
   ]
  },
  {
   "cell_type": "code",
   "execution_count": 21,
   "metadata": {},
   "outputs": [],
   "source": [
    "def create_poly(train, test, degree):\n",
    "    poly = PolynomialFeatures(degree=degree)\n",
    "    train_poly = poly.fit_transform(train)\n",
    "    test_poly = poly.fit_transform(test)\n",
    "    return train_poly, test_poly"
   ]
  },
  {
   "cell_type": "code",
   "execution_count": 22,
   "metadata": {},
   "outputs": [
    {
     "name": "stdout",
     "output_type": "stream",
     "text": [
      "Polynominal degree 1\n",
      "0.5938775510204082\n",
      "----------\n",
      "Polynominal degree 2\n",
      "0.5938775510204082\n",
      "----------\n",
      "Polynominal degree 3\n",
      "0.5938775510204082\n",
      "----------\n",
      "Polynominal degree 4\n",
      "0.5938775510204082\n",
      "----------\n"
     ]
    }
   ],
   "source": [
    "for degree in [1,2,3,4]:\n",
    "    train_poly, test_poly = create_poly(train, test, degree)\n",
    "    print(\"Polynominal degree\", degree)\n",
    "    fit_predict(train, test, y_train, y_test, StandardScaler(), 25, max_features=0.3, min_samples_split=2, criterion='entropy')\n",
    "    print(10*'-')"
   ]
  },
  {
   "cell_type": "code",
   "execution_count": 23,
   "metadata": {},
   "outputs": [
    {
     "name": "stdout",
     "output_type": "stream",
     "text": [
      "Additional Feature Engineering:\n",
      "0.6122448979591837\n",
      "0.5918367346938775\n"
     ]
    }
   ],
   "source": [
    "def feat_eng(df):\n",
    "    df['eng1'] = df['fixed acidity'] * df['pH']\n",
    "    df['eng2'] = df['total sulfur dioxide'] * df['free sulfur dioxide']\n",
    "    df['eng3'] = df['sulphates'] * df['chlorides']\n",
    "    df['eng4'] = df['chlorides'] * df['sulphates']\n",
    "    return df\n",
    "\n",
    "train = feat_eng(train)\n",
    "test = feat_eng(test)\n",
    "print(\"Additional Feature Engineering:\")\n",
    "                \n",
    "fit_predict(train, test, y_train, y_test, StandardScaler(), 25, max_features=0.3, min_samples_split=2, criterion='entropy')\n",
    "train_poly, test_poly = create_poly(train, test, degree)             \n",
    "fit_predict(train_poly, test_poly, y_train, y_test, StandardScaler(), 25, max_features=0.3, min_samples_split=2, criterion='entropy')"
   ]
  },
  {
   "cell_type": "code",
   "execution_count": 24,
   "metadata": {},
   "outputs": [],
   "source": [
    "from sklearn.ensemble import RandomForestClassifier"
   ]
  },
  {
   "cell_type": "code",
   "execution_count": 25,
   "metadata": {},
   "outputs": [],
   "source": [
    "rf = RandomForestClassifier()"
   ]
  },
  {
   "cell_type": "code",
   "execution_count": 26,
   "metadata": {},
   "outputs": [
    {
     "data": {
      "text/plain": [
       "RandomForestClassifier(bootstrap=True, ccp_alpha=0.0, class_weight=None,\n",
       "                       criterion='gini', max_depth=None, max_features='auto',\n",
       "                       max_leaf_nodes=None, max_samples=None,\n",
       "                       min_impurity_decrease=0.0, min_impurity_split=None,\n",
       "                       min_samples_leaf=1, min_samples_split=2,\n",
       "                       min_weight_fraction_leaf=0.0, n_estimators=100,\n",
       "                       n_jobs=None, oob_score=False, random_state=None,\n",
       "                       verbose=0, warm_start=False)"
      ]
     },
     "execution_count": 26,
     "metadata": {},
     "output_type": "execute_result"
    }
   ],
   "source": [
    "rf.fit(train, y_train)"
   ]
  },
  {
   "cell_type": "code",
   "execution_count": 27,
   "metadata": {},
   "outputs": [],
   "source": [
    "pred_rf = rf.predict(test)"
   ]
  },
  {
   "cell_type": "code",
   "execution_count": 28,
   "metadata": {},
   "outputs": [
    {
     "name": "stdout",
     "output_type": "stream",
     "text": [
      "0.6928571428571428\n"
     ]
    }
   ],
   "source": [
    "from sklearn.metrics import accuracy_score\n",
    "print(accuracy_score(y_test, pred_rf))"
   ]
  },
  {
   "cell_type": "code",
   "execution_count": 29,
   "metadata": {},
   "outputs": [],
   "source": [
    "from sklearn.model_selection import GridSearchCV"
   ]
  },
  {
   "cell_type": "code",
   "execution_count": 30,
   "metadata": {},
   "outputs": [],
   "source": [
    "params = {'n_estimators': [200,500,700], 'max_depth': [10,15,18,20], 'min_samples_leaf': [3,5,7]}"
   ]
  },
  {
   "cell_type": "code",
   "execution_count": 31,
   "metadata": {},
   "outputs": [],
   "source": [
    "gs = GridSearchCV(rf, params, verbose=3)"
   ]
  },
  {
   "cell_type": "code",
   "execution_count": null,
   "metadata": {},
   "outputs": [
    {
     "name": "stdout",
     "output_type": "stream",
     "text": [
      "Fitting 5 folds for each of 36 candidates, totalling 180 fits\n",
      "[CV] max_depth=10, min_samples_leaf=3, n_estimators=200 ..............\n"
     ]
    },
    {
     "name": "stderr",
     "output_type": "stream",
     "text": [
      "[Parallel(n_jobs=1)]: Using backend SequentialBackend with 1 concurrent workers.\n"
     ]
    },
    {
     "name": "stdout",
     "output_type": "stream",
     "text": [
      "[CV]  max_depth=10, min_samples_leaf=3, n_estimators=200, score=0.617, total=   1.3s\n",
      "[CV] max_depth=10, min_samples_leaf=3, n_estimators=200 ..............\n"
     ]
    },
    {
     "name": "stderr",
     "output_type": "stream",
     "text": [
      "[Parallel(n_jobs=1)]: Done   1 out of   1 | elapsed:    1.2s remaining:    0.0s\n"
     ]
    },
    {
     "name": "stdout",
     "output_type": "stream",
     "text": [
      "[CV]  max_depth=10, min_samples_leaf=3, n_estimators=200, score=0.597, total=   1.3s\n",
      "[CV] max_depth=10, min_samples_leaf=3, n_estimators=200 ..............\n"
     ]
    },
    {
     "name": "stderr",
     "output_type": "stream",
     "text": [
      "[Parallel(n_jobs=1)]: Done   2 out of   2 | elapsed:    2.5s remaining:    0.0s\n"
     ]
    },
    {
     "name": "stdout",
     "output_type": "stream",
     "text": [
      "[CV]  max_depth=10, min_samples_leaf=3, n_estimators=200, score=0.619, total=   1.3s\n",
      "[CV] max_depth=10, min_samples_leaf=3, n_estimators=200 ..............\n",
      "[CV]  max_depth=10, min_samples_leaf=3, n_estimators=200, score=0.621, total=   1.3s\n",
      "[CV] max_depth=10, min_samples_leaf=3, n_estimators=200 ..............\n",
      "[CV]  max_depth=10, min_samples_leaf=3, n_estimators=200, score=0.613, total=   1.2s\n",
      "[CV] max_depth=10, min_samples_leaf=3, n_estimators=500 ..............\n",
      "[CV]  max_depth=10, min_samples_leaf=3, n_estimators=500, score=0.622, total=   4.6s\n",
      "[CV] max_depth=10, min_samples_leaf=3, n_estimators=500 ..............\n",
      "[CV]  max_depth=10, min_samples_leaf=3, n_estimators=500, score=0.603, total=   4.7s\n",
      "[CV] max_depth=10, min_samples_leaf=3, n_estimators=500 ..............\n",
      "[CV]  max_depth=10, min_samples_leaf=3, n_estimators=500, score=0.619, total=   3.6s\n",
      "[CV] max_depth=10, min_samples_leaf=3, n_estimators=500 ..............\n",
      "[CV]  max_depth=10, min_samples_leaf=3, n_estimators=500, score=0.627, total=   3.8s\n",
      "[CV] max_depth=10, min_samples_leaf=3, n_estimators=500 ..............\n",
      "[CV]  max_depth=10, min_samples_leaf=3, n_estimators=500, score=0.608, total=   4.0s\n",
      "[CV] max_depth=10, min_samples_leaf=3, n_estimators=700 ..............\n",
      "[CV]  max_depth=10, min_samples_leaf=3, n_estimators=700, score=0.622, total=   4.9s\n",
      "[CV] max_depth=10, min_samples_leaf=3, n_estimators=700 ..............\n",
      "[CV]  max_depth=10, min_samples_leaf=3, n_estimators=700, score=0.598, total=   5.8s\n",
      "[CV] max_depth=10, min_samples_leaf=3, n_estimators=700 ..............\n",
      "[CV]  max_depth=10, min_samples_leaf=3, n_estimators=700, score=0.619, total=   5.5s\n",
      "[CV] max_depth=10, min_samples_leaf=3, n_estimators=700 ..............\n",
      "[CV]  max_depth=10, min_samples_leaf=3, n_estimators=700, score=0.625, total=   5.9s\n",
      "[CV] max_depth=10, min_samples_leaf=3, n_estimators=700 ..............\n",
      "[CV]  max_depth=10, min_samples_leaf=3, n_estimators=700, score=0.608, total=   5.2s\n",
      "[CV] max_depth=10, min_samples_leaf=5, n_estimators=200 ..............\n",
      "[CV]  max_depth=10, min_samples_leaf=5, n_estimators=200, score=0.622, total=   1.2s\n",
      "[CV] max_depth=10, min_samples_leaf=5, n_estimators=200 ..............\n",
      "[CV]  max_depth=10, min_samples_leaf=5, n_estimators=200, score=0.589, total=   1.4s\n",
      "[CV] max_depth=10, min_samples_leaf=5, n_estimators=200 ..............\n",
      "[CV]  max_depth=10, min_samples_leaf=5, n_estimators=200, score=0.616, total=   1.3s\n",
      "[CV] max_depth=10, min_samples_leaf=5, n_estimators=200 ..............\n",
      "[CV]  max_depth=10, min_samples_leaf=5, n_estimators=200, score=0.596, total=   1.6s\n",
      "[CV] max_depth=10, min_samples_leaf=5, n_estimators=200 ..............\n",
      "[CV]  max_depth=10, min_samples_leaf=5, n_estimators=200, score=0.599, total=   1.4s\n",
      "[CV] max_depth=10, min_samples_leaf=5, n_estimators=500 ..............\n",
      "[CV]  max_depth=10, min_samples_leaf=5, n_estimators=500, score=0.624, total=   2.8s\n",
      "[CV] max_depth=10, min_samples_leaf=5, n_estimators=500 ..............\n",
      "[CV]  max_depth=10, min_samples_leaf=5, n_estimators=500, score=0.594, total=   3.0s\n",
      "[CV] max_depth=10, min_samples_leaf=5, n_estimators=500 ..............\n",
      "[CV]  max_depth=10, min_samples_leaf=5, n_estimators=500, score=0.616, total=   4.7s\n",
      "[CV] max_depth=10, min_samples_leaf=5, n_estimators=500 ..............\n",
      "[CV]  max_depth=10, min_samples_leaf=5, n_estimators=500, score=0.610, total=   3.8s\n",
      "[CV] max_depth=10, min_samples_leaf=5, n_estimators=500 ..............\n",
      "[CV]  max_depth=10, min_samples_leaf=5, n_estimators=500, score=0.596, total=   3.3s\n",
      "[CV] max_depth=10, min_samples_leaf=5, n_estimators=700 ..............\n",
      "[CV]  max_depth=10, min_samples_leaf=5, n_estimators=700, score=0.622, total=   4.4s\n",
      "[CV] max_depth=10, min_samples_leaf=5, n_estimators=700 ..............\n",
      "[CV]  max_depth=10, min_samples_leaf=5, n_estimators=700, score=0.597, total=   4.5s\n",
      "[CV] max_depth=10, min_samples_leaf=5, n_estimators=700 ..............\n",
      "[CV]  max_depth=10, min_samples_leaf=5, n_estimators=700, score=0.616, total=   4.7s\n",
      "[CV] max_depth=10, min_samples_leaf=5, n_estimators=700 ..............\n",
      "[CV]  max_depth=10, min_samples_leaf=5, n_estimators=700, score=0.616, total=   4.3s\n",
      "[CV] max_depth=10, min_samples_leaf=5, n_estimators=700 ..............\n",
      "[CV]  max_depth=10, min_samples_leaf=5, n_estimators=700, score=0.591, total=   4.2s\n",
      "[CV] max_depth=10, min_samples_leaf=7, n_estimators=200 ..............\n",
      "[CV]  max_depth=10, min_samples_leaf=7, n_estimators=200, score=0.614, total=   1.2s\n",
      "[CV] max_depth=10, min_samples_leaf=7, n_estimators=200 ..............\n",
      "[CV]  max_depth=10, min_samples_leaf=7, n_estimators=200, score=0.584, total=   1.1s\n",
      "[CV] max_depth=10, min_samples_leaf=7, n_estimators=200 ..............\n",
      "[CV]  max_depth=10, min_samples_leaf=7, n_estimators=200, score=0.615, total=   1.1s\n",
      "[CV] max_depth=10, min_samples_leaf=7, n_estimators=200 ..............\n",
      "[CV]  max_depth=10, min_samples_leaf=7, n_estimators=200, score=0.613, total=   1.1s\n",
      "[CV] max_depth=10, min_samples_leaf=7, n_estimators=200 ..............\n",
      "[CV]  max_depth=10, min_samples_leaf=7, n_estimators=200, score=0.593, total=   1.1s\n",
      "[CV] max_depth=10, min_samples_leaf=7, n_estimators=500 ..............\n",
      "[CV]  max_depth=10, min_samples_leaf=7, n_estimators=500, score=0.612, total=   3.1s\n",
      "[CV] max_depth=10, min_samples_leaf=7, n_estimators=500 ..............\n",
      "[CV]  max_depth=10, min_samples_leaf=7, n_estimators=500, score=0.589, total=   2.8s\n",
      "[CV] max_depth=10, min_samples_leaf=7, n_estimators=500 ..............\n",
      "[CV]  max_depth=10, min_samples_leaf=7, n_estimators=500, score=0.606, total=   2.9s\n",
      "[CV] max_depth=10, min_samples_leaf=7, n_estimators=500 ..............\n",
      "[CV]  max_depth=10, min_samples_leaf=7, n_estimators=500, score=0.612, total=   2.8s\n",
      "[CV] max_depth=10, min_samples_leaf=7, n_estimators=500 ..............\n",
      "[CV]  max_depth=10, min_samples_leaf=7, n_estimators=500, score=0.590, total=   2.9s\n",
      "[CV] max_depth=10, min_samples_leaf=7, n_estimators=700 ..............\n",
      "[CV]  max_depth=10, min_samples_leaf=7, n_estimators=700, score=0.611, total=   4.0s\n",
      "[CV] max_depth=10, min_samples_leaf=7, n_estimators=700 ..............\n",
      "[CV]  max_depth=10, min_samples_leaf=7, n_estimators=700, score=0.580, total=   4.3s\n",
      "[CV] max_depth=10, min_samples_leaf=7, n_estimators=700 ..............\n",
      "[CV]  max_depth=10, min_samples_leaf=7, n_estimators=700, score=0.605, total=   4.3s\n",
      "[CV] max_depth=10, min_samples_leaf=7, n_estimators=700 ..............\n",
      "[CV]  max_depth=10, min_samples_leaf=7, n_estimators=700, score=0.603, total=   4.0s\n",
      "[CV] max_depth=10, min_samples_leaf=7, n_estimators=700 ..............\n",
      "[CV]  max_depth=10, min_samples_leaf=7, n_estimators=700, score=0.589, total=   4.0s\n",
      "[CV] max_depth=15, min_samples_leaf=3, n_estimators=200 ..............\n",
      "[CV]  max_depth=15, min_samples_leaf=3, n_estimators=200, score=0.661, total=   1.3s\n",
      "[CV] max_depth=15, min_samples_leaf=3, n_estimators=200 ..............\n",
      "[CV]  max_depth=15, min_samples_leaf=3, n_estimators=200, score=0.636, total=   1.3s\n",
      "[CV] max_depth=15, min_samples_leaf=3, n_estimators=200 ..............\n",
      "[CV]  max_depth=15, min_samples_leaf=3, n_estimators=200, score=0.652, total=   1.4s\n",
      "[CV] max_depth=15, min_samples_leaf=3, n_estimators=200 ..............\n",
      "[CV]  max_depth=15, min_samples_leaf=3, n_estimators=200, score=0.658, total=   1.3s\n",
      "[CV] max_depth=15, min_samples_leaf=3, n_estimators=200 ..............\n",
      "[CV]  max_depth=15, min_samples_leaf=3, n_estimators=200, score=0.649, total=   1.4s\n",
      "[CV] max_depth=15, min_samples_leaf=3, n_estimators=500 ..............\n",
      "[CV]  max_depth=15, min_samples_leaf=3, n_estimators=500, score=0.654, total=   3.6s\n",
      "[CV] max_depth=15, min_samples_leaf=3, n_estimators=500 ..............\n",
      "[CV]  max_depth=15, min_samples_leaf=3, n_estimators=500, score=0.634, total=   3.4s\n",
      "[CV] max_depth=15, min_samples_leaf=3, n_estimators=500 ..............\n",
      "[CV]  max_depth=15, min_samples_leaf=3, n_estimators=500, score=0.649, total=   3.4s\n",
      "[CV] max_depth=15, min_samples_leaf=3, n_estimators=500 ..............\n",
      "[CV]  max_depth=15, min_samples_leaf=3, n_estimators=500, score=0.651, total=   3.4s\n",
      "[CV] max_depth=15, min_samples_leaf=3, n_estimators=500 ..............\n",
      "[CV]  max_depth=15, min_samples_leaf=3, n_estimators=500, score=0.633, total=   4.1s\n",
      "[CV] max_depth=15, min_samples_leaf=3, n_estimators=700 ..............\n"
     ]
    },
    {
     "name": "stdout",
     "output_type": "stream",
     "text": [
      "[CV]  max_depth=15, min_samples_leaf=3, n_estimators=700, score=0.653, total=   5.2s\n",
      "[CV] max_depth=15, min_samples_leaf=3, n_estimators=700 ..............\n",
      "[CV]  max_depth=15, min_samples_leaf=3, n_estimators=700, score=0.639, total=   5.0s\n",
      "[CV] max_depth=15, min_samples_leaf=3, n_estimators=700 ..............\n",
      "[CV]  max_depth=15, min_samples_leaf=3, n_estimators=700, score=0.642, total=   7.4s\n",
      "[CV] max_depth=15, min_samples_leaf=3, n_estimators=700 ..............\n",
      "[CV]  max_depth=15, min_samples_leaf=3, n_estimators=700, score=0.654, total=   5.3s\n",
      "[CV] max_depth=15, min_samples_leaf=3, n_estimators=700 ..............\n",
      "[CV]  max_depth=15, min_samples_leaf=3, n_estimators=700, score=0.641, total=   5.7s\n",
      "[CV] max_depth=15, min_samples_leaf=5, n_estimators=200 ..............\n",
      "[CV]  max_depth=15, min_samples_leaf=5, n_estimators=200, score=0.633, total=   2.7s\n",
      "[CV] max_depth=15, min_samples_leaf=5, n_estimators=200 ..............\n",
      "[CV]  max_depth=15, min_samples_leaf=5, n_estimators=200, score=0.607, total=   1.9s\n",
      "[CV] max_depth=15, min_samples_leaf=5, n_estimators=200 ..............\n",
      "[CV]  max_depth=15, min_samples_leaf=5, n_estimators=200, score=0.634, total=   1.4s\n",
      "[CV] max_depth=15, min_samples_leaf=5, n_estimators=200 ..............\n",
      "[CV]  max_depth=15, min_samples_leaf=5, n_estimators=200, score=0.636, total=   1.5s\n",
      "[CV] max_depth=15, min_samples_leaf=5, n_estimators=200 ..............\n",
      "[CV]  max_depth=15, min_samples_leaf=5, n_estimators=200, score=0.627, total=   1.3s\n",
      "[CV] max_depth=15, min_samples_leaf=5, n_estimators=500 ..............\n",
      "[CV]  max_depth=15, min_samples_leaf=5, n_estimators=500, score=0.638, total=   3.5s\n",
      "[CV] max_depth=15, min_samples_leaf=5, n_estimators=500 ..............\n",
      "[CV]  max_depth=15, min_samples_leaf=5, n_estimators=500, score=0.611, total=   3.8s\n",
      "[CV] max_depth=15, min_samples_leaf=5, n_estimators=500 ..............\n",
      "[CV]  max_depth=15, min_samples_leaf=5, n_estimators=500, score=0.631, total=   3.5s\n",
      "[CV] max_depth=15, min_samples_leaf=5, n_estimators=500 ..............\n",
      "[CV]  max_depth=15, min_samples_leaf=5, n_estimators=500, score=0.627, total=   3.9s\n",
      "[CV] max_depth=15, min_samples_leaf=5, n_estimators=500 ..............\n",
      "[CV]  max_depth=15, min_samples_leaf=5, n_estimators=500, score=0.621, total=   3.3s\n",
      "[CV] max_depth=15, min_samples_leaf=5, n_estimators=700 ..............\n",
      "[CV]  max_depth=15, min_samples_leaf=5, n_estimators=700, score=0.635, total=   5.3s\n",
      "[CV] max_depth=15, min_samples_leaf=5, n_estimators=700 ..............\n",
      "[CV]  max_depth=15, min_samples_leaf=5, n_estimators=700, score=0.614, total=   5.0s\n",
      "[CV] max_depth=15, min_samples_leaf=5, n_estimators=700 ..............\n",
      "[CV]  max_depth=15, min_samples_leaf=5, n_estimators=700, score=0.636, total=   4.6s\n",
      "[CV] max_depth=15, min_samples_leaf=5, n_estimators=700 ..............\n",
      "[CV]  max_depth=15, min_samples_leaf=5, n_estimators=700, score=0.628, total=   4.6s\n",
      "[CV] max_depth=15, min_samples_leaf=5, n_estimators=700 ..............\n",
      "[CV]  max_depth=15, min_samples_leaf=5, n_estimators=700, score=0.623, total=   4.5s\n",
      "[CV] max_depth=15, min_samples_leaf=7, n_estimators=200 ..............\n",
      "[CV]  max_depth=15, min_samples_leaf=7, n_estimators=200, score=0.625, total=   1.2s\n",
      "[CV] max_depth=15, min_samples_leaf=7, n_estimators=200 ..............\n",
      "[CV]  max_depth=15, min_samples_leaf=7, n_estimators=200, score=0.592, total=   1.2s\n",
      "[CV] max_depth=15, min_samples_leaf=7, n_estimators=200 ..............\n",
      "[CV]  max_depth=15, min_samples_leaf=7, n_estimators=200, score=0.621, total=   1.2s\n",
      "[CV] max_depth=15, min_samples_leaf=7, n_estimators=200 ..............\n",
      "[CV]  max_depth=15, min_samples_leaf=7, n_estimators=200, score=0.619, total=   1.2s\n",
      "[CV] max_depth=15, min_samples_leaf=7, n_estimators=200 ..............\n",
      "[CV]  max_depth=15, min_samples_leaf=7, n_estimators=200, score=0.614, total=   1.2s\n",
      "[CV] max_depth=15, min_samples_leaf=7, n_estimators=500 ..............\n",
      "[CV]  max_depth=15, min_samples_leaf=7, n_estimators=500, score=0.625, total=   3.0s\n",
      "[CV] max_depth=15, min_samples_leaf=7, n_estimators=500 ..............\n",
      "[CV]  max_depth=15, min_samples_leaf=7, n_estimators=500, score=0.601, total=   3.1s\n",
      "[CV] max_depth=15, min_samples_leaf=7, n_estimators=500 ..............\n",
      "[CV]  max_depth=15, min_samples_leaf=7, n_estimators=500, score=0.626, total=   3.5s\n",
      "[CV] max_depth=15, min_samples_leaf=7, n_estimators=500 ..............\n",
      "[CV]  max_depth=15, min_samples_leaf=7, n_estimators=500, score=0.626, total=   3.8s\n",
      "[CV] max_depth=15, min_samples_leaf=7, n_estimators=500 ..............\n",
      "[CV]  max_depth=15, min_samples_leaf=7, n_estimators=500, score=0.598, total=   3.7s\n",
      "[CV] max_depth=15, min_samples_leaf=7, n_estimators=700 ..............\n",
      "[CV]  max_depth=15, min_samples_leaf=7, n_estimators=700, score=0.616, total=   5.3s\n",
      "[CV] max_depth=15, min_samples_leaf=7, n_estimators=700 ..............\n",
      "[CV]  max_depth=15, min_samples_leaf=7, n_estimators=700, score=0.596, total=   4.6s\n",
      "[CV] max_depth=15, min_samples_leaf=7, n_estimators=700 ..............\n",
      "[CV]  max_depth=15, min_samples_leaf=7, n_estimators=700, score=0.626, total=   4.5s\n",
      "[CV] max_depth=15, min_samples_leaf=7, n_estimators=700 ..............\n",
      "[CV]  max_depth=15, min_samples_leaf=7, n_estimators=700, score=0.619, total=   5.0s\n",
      "[CV] max_depth=15, min_samples_leaf=7, n_estimators=700 ..............\n",
      "[CV]  max_depth=15, min_samples_leaf=7, n_estimators=700, score=0.609, total=   5.3s\n",
      "[CV] max_depth=18, min_samples_leaf=3, n_estimators=200 ..............\n",
      "[CV]  max_depth=18, min_samples_leaf=3, n_estimators=200, score=0.670, total=   1.8s\n",
      "[CV] max_depth=18, min_samples_leaf=3, n_estimators=200 ..............\n",
      "[CV]  max_depth=18, min_samples_leaf=3, n_estimators=200, score=0.638, total=   3.2s\n",
      "[CV] max_depth=18, min_samples_leaf=3, n_estimators=200 ..............\n",
      "[CV]  max_depth=18, min_samples_leaf=3, n_estimators=200, score=0.658, total=   2.0s\n",
      "[CV] max_depth=18, min_samples_leaf=3, n_estimators=200 ..............\n",
      "[CV]  max_depth=18, min_samples_leaf=3, n_estimators=200, score=0.667, total=   1.8s\n",
      "[CV] max_depth=18, min_samples_leaf=3, n_estimators=200 ..............\n",
      "[CV]  max_depth=18, min_samples_leaf=3, n_estimators=200, score=0.653, total=   1.7s\n",
      "[CV] max_depth=18, min_samples_leaf=3, n_estimators=500 ..............\n",
      "[CV]  max_depth=18, min_samples_leaf=3, n_estimators=500, score=0.665, total=   4.5s\n",
      "[CV] max_depth=18, min_samples_leaf=3, n_estimators=500 ..............\n",
      "[CV]  max_depth=18, min_samples_leaf=3, n_estimators=500, score=0.636, total=   4.1s\n",
      "[CV] max_depth=18, min_samples_leaf=3, n_estimators=500 ..............\n",
      "[CV]  max_depth=18, min_samples_leaf=3, n_estimators=500, score=0.643, total=   4.0s\n",
      "[CV] max_depth=18, min_samples_leaf=3, n_estimators=500 ..............\n",
      "[CV]  max_depth=18, min_samples_leaf=3, n_estimators=500, score=0.658, total=   4.1s\n",
      "[CV] max_depth=18, min_samples_leaf=3, n_estimators=500 ..............\n",
      "[CV]  max_depth=18, min_samples_leaf=3, n_estimators=500, score=0.637, total=   3.7s\n",
      "[CV] max_depth=18, min_samples_leaf=3, n_estimators=700 ..............\n",
      "[CV]  max_depth=18, min_samples_leaf=3, n_estimators=700, score=0.658, total=   5.3s\n",
      "[CV] max_depth=18, min_samples_leaf=3, n_estimators=700 ..............\n",
      "[CV]  max_depth=18, min_samples_leaf=3, n_estimators=700, score=0.634, total=   5.1s\n",
      "[CV] max_depth=18, min_samples_leaf=3, n_estimators=700 ..............\n",
      "[CV]  max_depth=18, min_samples_leaf=3, n_estimators=700, score=0.656, total=   5.0s\n",
      "[CV] max_depth=18, min_samples_leaf=3, n_estimators=700 ..............\n",
      "[CV]  max_depth=18, min_samples_leaf=3, n_estimators=700, score=0.662, total=   5.3s\n",
      "[CV] max_depth=18, min_samples_leaf=3, n_estimators=700 ..............\n",
      "[CV]  max_depth=18, min_samples_leaf=3, n_estimators=700, score=0.639, total=   5.2s\n",
      "[CV] max_depth=18, min_samples_leaf=5, n_estimators=200 ..............\n",
      "[CV]  max_depth=18, min_samples_leaf=5, n_estimators=200, score=0.625, total=   1.4s\n",
      "[CV] max_depth=18, min_samples_leaf=5, n_estimators=200 ..............\n",
      "[CV]  max_depth=18, min_samples_leaf=5, n_estimators=200, score=0.611, total=   1.3s\n",
      "[CV] max_depth=18, min_samples_leaf=5, n_estimators=200 ..............\n",
      "[CV]  max_depth=18, min_samples_leaf=5, n_estimators=200, score=0.633, total=   1.2s\n",
      "[CV] max_depth=18, min_samples_leaf=5, n_estimators=200 ..............\n"
     ]
    },
    {
     "name": "stdout",
     "output_type": "stream",
     "text": [
      "[CV]  max_depth=18, min_samples_leaf=5, n_estimators=200, score=0.630, total=   1.3s\n",
      "[CV] max_depth=18, min_samples_leaf=5, n_estimators=200 ..............\n",
      "[CV]  max_depth=18, min_samples_leaf=5, n_estimators=200, score=0.628, total=   1.4s\n",
      "[CV] max_depth=18, min_samples_leaf=5, n_estimators=500 ..............\n",
      "[CV]  max_depth=18, min_samples_leaf=5, n_estimators=500, score=0.648, total=   3.4s\n",
      "[CV] max_depth=18, min_samples_leaf=5, n_estimators=500 ..............\n",
      "[CV]  max_depth=18, min_samples_leaf=5, n_estimators=500, score=0.617, total=   3.5s\n",
      "[CV] max_depth=18, min_samples_leaf=5, n_estimators=500 ..............\n",
      "[CV]  max_depth=18, min_samples_leaf=5, n_estimators=500, score=0.635, total=   3.2s\n",
      "[CV] max_depth=18, min_samples_leaf=5, n_estimators=500 ..............\n",
      "[CV]  max_depth=18, min_samples_leaf=5, n_estimators=500, score=0.633, total=   3.3s\n",
      "[CV] max_depth=18, min_samples_leaf=5, n_estimators=500 ..............\n",
      "[CV]  max_depth=18, min_samples_leaf=5, n_estimators=500, score=0.618, total=   3.3s\n",
      "[CV] max_depth=18, min_samples_leaf=5, n_estimators=700 ..............\n",
      "[CV]  max_depth=18, min_samples_leaf=5, n_estimators=700, score=0.648, total=   5.3s\n",
      "[CV] max_depth=18, min_samples_leaf=5, n_estimators=700 ..............\n",
      "[CV]  max_depth=18, min_samples_leaf=5, n_estimators=700, score=0.617, total=   5.6s\n",
      "[CV] max_depth=18, min_samples_leaf=5, n_estimators=700 ..............\n",
      "[CV]  max_depth=18, min_samples_leaf=5, n_estimators=700, score=0.640, total=   5.9s\n",
      "[CV] max_depth=18, min_samples_leaf=5, n_estimators=700 ..............\n",
      "[CV]  max_depth=18, min_samples_leaf=5, n_estimators=700, score=0.636, total=   4.7s\n",
      "[CV] max_depth=18, min_samples_leaf=5, n_estimators=700 ..............\n",
      "[CV]  max_depth=18, min_samples_leaf=5, n_estimators=700, score=0.623, total=   4.7s\n",
      "[CV] max_depth=18, min_samples_leaf=7, n_estimators=200 ..............\n",
      "[CV]  max_depth=18, min_samples_leaf=7, n_estimators=200, score=0.629, total=   1.5s\n",
      "[CV] max_depth=18, min_samples_leaf=7, n_estimators=200 ..............\n",
      "[CV]  max_depth=18, min_samples_leaf=7, n_estimators=200, score=0.593, total=   1.3s\n",
      "[CV] max_depth=18, min_samples_leaf=7, n_estimators=200 ..............\n",
      "[CV]  max_depth=18, min_samples_leaf=7, n_estimators=200, score=0.631, total=   1.2s\n",
      "[CV] max_depth=18, min_samples_leaf=7, n_estimators=200 ..............\n",
      "[CV]  max_depth=18, min_samples_leaf=7, n_estimators=200, score=0.622, total=   1.3s\n",
      "[CV] max_depth=18, min_samples_leaf=7, n_estimators=200 ..............\n",
      "[CV]  max_depth=18, min_samples_leaf=7, n_estimators=200, score=0.608, total=   1.4s\n",
      "[CV] max_depth=18, min_samples_leaf=7, n_estimators=500 ..............\n",
      "[CV]  max_depth=18, min_samples_leaf=7, n_estimators=500, score=0.628, total=   3.5s\n",
      "[CV] max_depth=18, min_samples_leaf=7, n_estimators=500 ..............\n",
      "[CV]  max_depth=18, min_samples_leaf=7, n_estimators=500, score=0.594, total=   3.1s\n",
      "[CV] max_depth=18, min_samples_leaf=7, n_estimators=500 ..............\n",
      "[CV]  max_depth=18, min_samples_leaf=7, n_estimators=500, score=0.629, total=   3.1s\n",
      "[CV] max_depth=18, min_samples_leaf=7, n_estimators=500 ..............\n",
      "[CV]  max_depth=18, min_samples_leaf=7, n_estimators=500, score=0.618, total=   3.0s\n",
      "[CV] max_depth=18, min_samples_leaf=7, n_estimators=500 ..............\n",
      "[CV]  max_depth=18, min_samples_leaf=7, n_estimators=500, score=0.607, total=   3.2s\n",
      "[CV] max_depth=18, min_samples_leaf=7, n_estimators=700 ..............\n",
      "[CV]  max_depth=18, min_samples_leaf=7, n_estimators=700, score=0.631, total=   4.4s\n",
      "[CV] max_depth=18, min_samples_leaf=7, n_estimators=700 ..............\n",
      "[CV]  max_depth=18, min_samples_leaf=7, n_estimators=700, score=0.598, total=   4.3s\n",
      "[CV] max_depth=18, min_samples_leaf=7, n_estimators=700 ..............\n",
      "[CV]  max_depth=18, min_samples_leaf=7, n_estimators=700, score=0.611, total=   4.4s\n",
      "[CV] max_depth=18, min_samples_leaf=7, n_estimators=700 ..............\n",
      "[CV]  max_depth=18, min_samples_leaf=7, n_estimators=700, score=0.622, total=   4.5s\n",
      "[CV] max_depth=18, min_samples_leaf=7, n_estimators=700 ..............\n",
      "[CV]  max_depth=18, min_samples_leaf=7, n_estimators=700, score=0.600, total=   4.3s\n",
      "[CV] max_depth=20, min_samples_leaf=3, n_estimators=200 ..............\n",
      "[CV]  max_depth=20, min_samples_leaf=3, n_estimators=200, score=0.663, total=   1.4s\n",
      "[CV] max_depth=20, min_samples_leaf=3, n_estimators=200 ..............\n",
      "[CV]  max_depth=20, min_samples_leaf=3, n_estimators=200, score=0.638, total=   1.5s\n",
      "[CV] max_depth=20, min_samples_leaf=3, n_estimators=200 ..............\n",
      "[CV]  max_depth=20, min_samples_leaf=3, n_estimators=200, score=0.665, total=   1.9s\n",
      "[CV] max_depth=20, min_samples_leaf=3, n_estimators=200 ..............\n",
      "[CV]  max_depth=20, min_samples_leaf=3, n_estimators=200, score=0.654, total=   1.8s\n",
      "[CV] max_depth=20, min_samples_leaf=3, n_estimators=200 ..............\n",
      "[CV]  max_depth=20, min_samples_leaf=3, n_estimators=200, score=0.641, total=   1.4s\n",
      "[CV] max_depth=20, min_samples_leaf=3, n_estimators=500 ..............\n",
      "[CV]  max_depth=20, min_samples_leaf=3, n_estimators=500, score=0.666, total=   3.5s\n",
      "[CV] max_depth=20, min_samples_leaf=3, n_estimators=500 ..............\n",
      "[CV]  max_depth=20, min_samples_leaf=3, n_estimators=500, score=0.642, total=   3.8s\n",
      "[CV] max_depth=20, min_samples_leaf=3, n_estimators=500 ..............\n",
      "[CV]  max_depth=20, min_samples_leaf=3, n_estimators=500, score=0.652, total=   3.6s\n",
      "[CV] max_depth=20, min_samples_leaf=3, n_estimators=500 ..............\n",
      "[CV]  max_depth=20, min_samples_leaf=3, n_estimators=500, score=0.653, total=   3.9s\n",
      "[CV] max_depth=20, min_samples_leaf=3, n_estimators=500 ..............\n",
      "[CV]  max_depth=20, min_samples_leaf=3, n_estimators=500, score=0.653, total=   6.8s\n",
      "[CV] max_depth=20, min_samples_leaf=3, n_estimators=700 ..............\n",
      "[CV]  max_depth=20, min_samples_leaf=3, n_estimators=700, score=0.653, total=   8.3s\n",
      "[CV] max_depth=20, min_samples_leaf=3, n_estimators=700 ..............\n",
      "[CV]  max_depth=20, min_samples_leaf=3, n_estimators=700, score=0.639, total=   9.4s\n",
      "[CV] max_depth=20, min_samples_leaf=3, n_estimators=700 ..............\n"
     ]
    }
   ],
   "source": [
    "gs.fit(train, y_train)"
   ]
  },
  {
   "cell_type": "code",
   "execution_count": null,
   "metadata": {},
   "outputs": [],
   "source": [
    "gs.best_estimator_"
   ]
  },
  {
   "cell_type": "code",
   "execution_count": null,
   "metadata": {},
   "outputs": [],
   "source": [
    "gs.best_params_"
   ]
  },
  {
   "cell_type": "code",
   "execution_count": null,
   "metadata": {},
   "outputs": [],
   "source": [
    "rf1 = RandomForestClassifier(bootstrap=True, ccp_alpha=0.0, class_weight=None,\n",
    "                       criterion='gini', max_depth=20, max_features='auto',\n",
    "                       max_leaf_nodes=None, max_samples=None,\n",
    "                       min_impurity_decrease=0.0, min_impurity_split=None,\n",
    "                       min_samples_leaf=3, min_samples_split=2,\n",
    "                       min_weight_fraction_leaf=0.0, n_estimators=500,\n",
    "                       n_jobs=None, oob_score=True, random_state=None,\n",
    "                       verbose=0, warm_start=False)"
   ]
  },
  {
   "cell_type": "code",
   "execution_count": null,
   "metadata": {},
   "outputs": [],
   "source": [
    "rf1.fit(train,y_train)"
   ]
  },
  {
   "cell_type": "code",
   "execution_count": null,
   "metadata": {},
   "outputs": [],
   "source": [
    "pred_rf1 = rf1.predict(test)"
   ]
  },
  {
   "cell_type": "code",
   "execution_count": null,
   "metadata": {},
   "outputs": [],
   "source": [
    "print(accuracy_score(y_test, pred_rf1))"
   ]
  },
  {
   "cell_type": "code",
   "execution_count": null,
   "metadata": {},
   "outputs": [],
   "source": [
    "rf1.oob_score"
   ]
  },
  {
   "cell_type": "code",
   "execution_count": null,
   "metadata": {},
   "outputs": [],
   "source": [
    "rf1.feature_importances_"
   ]
  },
  {
   "cell_type": "code",
   "execution_count": null,
   "metadata": {},
   "outputs": [],
   "source": [
    "sorted(list(zip(rf1.feature_importances_, df.columns)), reverse=True)"
   ]
  },
  {
   "cell_type": "code",
   "execution_count": null,
   "metadata": {},
   "outputs": [],
   "source": [
    "df.corr()"
   ]
  },
  {
   "cell_type": "code",
   "execution_count": null,
   "metadata": {},
   "outputs": [],
   "source": []
  }
 ],
 "metadata": {
  "kernelspec": {
   "display_name": "Python 3",
   "language": "python",
   "name": "python3"
  },
  "language_info": {
   "codemirror_mode": {
    "name": "ipython",
    "version": 3
   },
   "file_extension": ".py",
   "mimetype": "text/x-python",
   "name": "python",
   "nbconvert_exporter": "python",
   "pygments_lexer": "ipython3",
   "version": "3.7.6"
  }
 },
 "nbformat": 4,
 "nbformat_minor": 4
}
