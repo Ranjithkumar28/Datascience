{
 "cells": [
  {
   "cell_type": "code",
   "execution_count": 1,
   "metadata": {},
   "outputs": [],
   "source": [
    "import pandas as pd\n",
    "import numpy as np\n",
    "import matplotlib.pyplot as plt\n",
    "%matplotlib inline\n",
    "from sklearn.preprocessing import StandardScaler\n",
    "from sklearn.linear_model import LogisticRegression\n",
    "from sklearn.tree import DecisionTreeClassifier\n",
    "from sklearn.model_selection import train_test_split\n",
    "from sklearn.metrics import accuracy_score, confusion_matrix, classification_report, roc_auc_score\n",
    "from sklearn.preprocessing import PolynomialFeatures\n",
    "import warnings\n",
    "warnings.filterwarnings(\"ignore\")\n",
    "np.random.seed(42)"
   ]
  },
  {
   "cell_type": "code",
   "execution_count": 2,
   "metadata": {},
   "outputs": [],
   "source": [
    "df = pd.read_csv(\"loan_data.csv\")"
   ]
  },
  {
   "cell_type": "code",
   "execution_count": 3,
   "metadata": {},
   "outputs": [
    {
     "data": {
      "text/html": [
       "<div>\n",
       "<style scoped>\n",
       "    .dataframe tbody tr th:only-of-type {\n",
       "        vertical-align: middle;\n",
       "    }\n",
       "\n",
       "    .dataframe tbody tr th {\n",
       "        vertical-align: top;\n",
       "    }\n",
       "\n",
       "    .dataframe thead th {\n",
       "        text-align: right;\n",
       "    }\n",
       "</style>\n",
       "<table border=\"1\" class=\"dataframe\">\n",
       "  <thead>\n",
       "    <tr style=\"text-align: right;\">\n",
       "      <th></th>\n",
       "      <th>credit.policy</th>\n",
       "      <th>purpose</th>\n",
       "      <th>int.rate</th>\n",
       "      <th>installment</th>\n",
       "      <th>log.annual.inc</th>\n",
       "      <th>dti</th>\n",
       "      <th>fico</th>\n",
       "      <th>days.with.cr.line</th>\n",
       "      <th>revol.bal</th>\n",
       "      <th>revol.util</th>\n",
       "      <th>inq.last.6mths</th>\n",
       "      <th>delinq.2yrs</th>\n",
       "      <th>pub.rec</th>\n",
       "      <th>not.fully.paid</th>\n",
       "    </tr>\n",
       "  </thead>\n",
       "  <tbody>\n",
       "    <tr>\n",
       "      <th>0</th>\n",
       "      <td>1</td>\n",
       "      <td>debt_consolidation</td>\n",
       "      <td>0.1189</td>\n",
       "      <td>829.10</td>\n",
       "      <td>11.350407</td>\n",
       "      <td>19.48</td>\n",
       "      <td>737</td>\n",
       "      <td>5639.958333</td>\n",
       "      <td>28854</td>\n",
       "      <td>52.1</td>\n",
       "      <td>0</td>\n",
       "      <td>0</td>\n",
       "      <td>0</td>\n",
       "      <td>0</td>\n",
       "    </tr>\n",
       "    <tr>\n",
       "      <th>1</th>\n",
       "      <td>1</td>\n",
       "      <td>credit_card</td>\n",
       "      <td>0.1071</td>\n",
       "      <td>228.22</td>\n",
       "      <td>11.082143</td>\n",
       "      <td>14.29</td>\n",
       "      <td>707</td>\n",
       "      <td>2760.000000</td>\n",
       "      <td>33623</td>\n",
       "      <td>76.7</td>\n",
       "      <td>0</td>\n",
       "      <td>0</td>\n",
       "      <td>0</td>\n",
       "      <td>0</td>\n",
       "    </tr>\n",
       "    <tr>\n",
       "      <th>2</th>\n",
       "      <td>1</td>\n",
       "      <td>debt_consolidation</td>\n",
       "      <td>0.1357</td>\n",
       "      <td>366.86</td>\n",
       "      <td>10.373491</td>\n",
       "      <td>11.63</td>\n",
       "      <td>682</td>\n",
       "      <td>4710.000000</td>\n",
       "      <td>3511</td>\n",
       "      <td>25.6</td>\n",
       "      <td>1</td>\n",
       "      <td>0</td>\n",
       "      <td>0</td>\n",
       "      <td>0</td>\n",
       "    </tr>\n",
       "    <tr>\n",
       "      <th>3</th>\n",
       "      <td>1</td>\n",
       "      <td>debt_consolidation</td>\n",
       "      <td>0.1008</td>\n",
       "      <td>162.34</td>\n",
       "      <td>11.350407</td>\n",
       "      <td>8.10</td>\n",
       "      <td>712</td>\n",
       "      <td>2699.958333</td>\n",
       "      <td>33667</td>\n",
       "      <td>73.2</td>\n",
       "      <td>1</td>\n",
       "      <td>0</td>\n",
       "      <td>0</td>\n",
       "      <td>0</td>\n",
       "    </tr>\n",
       "    <tr>\n",
       "      <th>4</th>\n",
       "      <td>1</td>\n",
       "      <td>credit_card</td>\n",
       "      <td>0.1426</td>\n",
       "      <td>102.92</td>\n",
       "      <td>11.299732</td>\n",
       "      <td>14.97</td>\n",
       "      <td>667</td>\n",
       "      <td>4066.000000</td>\n",
       "      <td>4740</td>\n",
       "      <td>39.5</td>\n",
       "      <td>0</td>\n",
       "      <td>1</td>\n",
       "      <td>0</td>\n",
       "      <td>0</td>\n",
       "    </tr>\n",
       "  </tbody>\n",
       "</table>\n",
       "</div>"
      ],
      "text/plain": [
       "   credit.policy             purpose  int.rate  installment  log.annual.inc  \\\n",
       "0              1  debt_consolidation    0.1189       829.10       11.350407   \n",
       "1              1         credit_card    0.1071       228.22       11.082143   \n",
       "2              1  debt_consolidation    0.1357       366.86       10.373491   \n",
       "3              1  debt_consolidation    0.1008       162.34       11.350407   \n",
       "4              1         credit_card    0.1426       102.92       11.299732   \n",
       "\n",
       "     dti  fico  days.with.cr.line  revol.bal  revol.util  inq.last.6mths  \\\n",
       "0  19.48   737        5639.958333      28854        52.1               0   \n",
       "1  14.29   707        2760.000000      33623        76.7               0   \n",
       "2  11.63   682        4710.000000       3511        25.6               1   \n",
       "3   8.10   712        2699.958333      33667        73.2               1   \n",
       "4  14.97   667        4066.000000       4740        39.5               0   \n",
       "\n",
       "   delinq.2yrs  pub.rec  not.fully.paid  \n",
       "0            0        0               0  \n",
       "1            0        0               0  \n",
       "2            0        0               0  \n",
       "3            0        0               0  \n",
       "4            1        0               0  "
      ]
     },
     "execution_count": 3,
     "metadata": {},
     "output_type": "execute_result"
    }
   ],
   "source": [
    "df.head()"
   ]
  },
  {
   "cell_type": "code",
   "execution_count": 4,
   "metadata": {},
   "outputs": [
    {
     "name": "stdout",
     "output_type": "stream",
     "text": [
      "<class 'pandas.core.frame.DataFrame'>\n",
      "RangeIndex: 9578 entries, 0 to 9577\n",
      "Data columns (total 14 columns):\n",
      " #   Column             Non-Null Count  Dtype  \n",
      "---  ------             --------------  -----  \n",
      " 0   credit.policy      9578 non-null   int64  \n",
      " 1   purpose            9578 non-null   object \n",
      " 2   int.rate           9578 non-null   float64\n",
      " 3   installment        9578 non-null   float64\n",
      " 4   log.annual.inc     9578 non-null   float64\n",
      " 5   dti                9578 non-null   float64\n",
      " 6   fico               9578 non-null   int64  \n",
      " 7   days.with.cr.line  9578 non-null   float64\n",
      " 8   revol.bal          9578 non-null   int64  \n",
      " 9   revol.util         9578 non-null   float64\n",
      " 10  inq.last.6mths     9578 non-null   int64  \n",
      " 11  delinq.2yrs        9578 non-null   int64  \n",
      " 12  pub.rec            9578 non-null   int64  \n",
      " 13  not.fully.paid     9578 non-null   int64  \n",
      "dtypes: float64(6), int64(7), object(1)\n",
      "memory usage: 1.0+ MB\n"
     ]
    }
   ],
   "source": [
    "df.info()"
   ]
  },
  {
   "cell_type": "code",
   "execution_count": 5,
   "metadata": {},
   "outputs": [],
   "source": [
    "x = df.copy()"
   ]
  },
  {
   "cell_type": "code",
   "execution_count": 6,
   "metadata": {},
   "outputs": [],
   "source": [
    "x['purpose']=x['purpose'].astype('category')"
   ]
  },
  {
   "cell_type": "code",
   "execution_count": 7,
   "metadata": {},
   "outputs": [],
   "source": [
    "encodedDF = pd.get_dummies(x[['purpose']])"
   ]
  },
  {
   "cell_type": "code",
   "execution_count": 8,
   "metadata": {},
   "outputs": [],
   "source": [
    "x = pd.concat([encodedDF,x.drop(['purpose'],axis=1)],axis=1)"
   ]
  },
  {
   "cell_type": "code",
   "execution_count": 9,
   "metadata": {},
   "outputs": [],
   "source": [
    "y = x.pop(\"not.fully.paid\")"
   ]
  },
  {
   "cell_type": "code",
   "execution_count": 10,
   "metadata": {},
   "outputs": [
    {
     "data": {
      "text/html": [
       "<div>\n",
       "<style scoped>\n",
       "    .dataframe tbody tr th:only-of-type {\n",
       "        vertical-align: middle;\n",
       "    }\n",
       "\n",
       "    .dataframe tbody tr th {\n",
       "        vertical-align: top;\n",
       "    }\n",
       "\n",
       "    .dataframe thead th {\n",
       "        text-align: right;\n",
       "    }\n",
       "</style>\n",
       "<table border=\"1\" class=\"dataframe\">\n",
       "  <thead>\n",
       "    <tr style=\"text-align: right;\">\n",
       "      <th></th>\n",
       "      <th>purpose_all_other</th>\n",
       "      <th>purpose_credit_card</th>\n",
       "      <th>purpose_debt_consolidation</th>\n",
       "      <th>purpose_educational</th>\n",
       "      <th>purpose_home_improvement</th>\n",
       "      <th>purpose_major_purchase</th>\n",
       "      <th>purpose_small_business</th>\n",
       "      <th>credit.policy</th>\n",
       "      <th>int.rate</th>\n",
       "      <th>installment</th>\n",
       "      <th>log.annual.inc</th>\n",
       "      <th>dti</th>\n",
       "      <th>fico</th>\n",
       "      <th>days.with.cr.line</th>\n",
       "      <th>revol.bal</th>\n",
       "      <th>revol.util</th>\n",
       "      <th>inq.last.6mths</th>\n",
       "      <th>delinq.2yrs</th>\n",
       "      <th>pub.rec</th>\n",
       "    </tr>\n",
       "  </thead>\n",
       "  <tbody>\n",
       "    <tr>\n",
       "      <th>0</th>\n",
       "      <td>0</td>\n",
       "      <td>0</td>\n",
       "      <td>1</td>\n",
       "      <td>0</td>\n",
       "      <td>0</td>\n",
       "      <td>0</td>\n",
       "      <td>0</td>\n",
       "      <td>1</td>\n",
       "      <td>0.1189</td>\n",
       "      <td>829.10</td>\n",
       "      <td>11.350407</td>\n",
       "      <td>19.48</td>\n",
       "      <td>737</td>\n",
       "      <td>5639.958333</td>\n",
       "      <td>28854</td>\n",
       "      <td>52.1</td>\n",
       "      <td>0</td>\n",
       "      <td>0</td>\n",
       "      <td>0</td>\n",
       "    </tr>\n",
       "    <tr>\n",
       "      <th>1</th>\n",
       "      <td>0</td>\n",
       "      <td>1</td>\n",
       "      <td>0</td>\n",
       "      <td>0</td>\n",
       "      <td>0</td>\n",
       "      <td>0</td>\n",
       "      <td>0</td>\n",
       "      <td>1</td>\n",
       "      <td>0.1071</td>\n",
       "      <td>228.22</td>\n",
       "      <td>11.082143</td>\n",
       "      <td>14.29</td>\n",
       "      <td>707</td>\n",
       "      <td>2760.000000</td>\n",
       "      <td>33623</td>\n",
       "      <td>76.7</td>\n",
       "      <td>0</td>\n",
       "      <td>0</td>\n",
       "      <td>0</td>\n",
       "    </tr>\n",
       "    <tr>\n",
       "      <th>2</th>\n",
       "      <td>0</td>\n",
       "      <td>0</td>\n",
       "      <td>1</td>\n",
       "      <td>0</td>\n",
       "      <td>0</td>\n",
       "      <td>0</td>\n",
       "      <td>0</td>\n",
       "      <td>1</td>\n",
       "      <td>0.1357</td>\n",
       "      <td>366.86</td>\n",
       "      <td>10.373491</td>\n",
       "      <td>11.63</td>\n",
       "      <td>682</td>\n",
       "      <td>4710.000000</td>\n",
       "      <td>3511</td>\n",
       "      <td>25.6</td>\n",
       "      <td>1</td>\n",
       "      <td>0</td>\n",
       "      <td>0</td>\n",
       "    </tr>\n",
       "    <tr>\n",
       "      <th>3</th>\n",
       "      <td>0</td>\n",
       "      <td>0</td>\n",
       "      <td>1</td>\n",
       "      <td>0</td>\n",
       "      <td>0</td>\n",
       "      <td>0</td>\n",
       "      <td>0</td>\n",
       "      <td>1</td>\n",
       "      <td>0.1008</td>\n",
       "      <td>162.34</td>\n",
       "      <td>11.350407</td>\n",
       "      <td>8.10</td>\n",
       "      <td>712</td>\n",
       "      <td>2699.958333</td>\n",
       "      <td>33667</td>\n",
       "      <td>73.2</td>\n",
       "      <td>1</td>\n",
       "      <td>0</td>\n",
       "      <td>0</td>\n",
       "    </tr>\n",
       "    <tr>\n",
       "      <th>4</th>\n",
       "      <td>0</td>\n",
       "      <td>1</td>\n",
       "      <td>0</td>\n",
       "      <td>0</td>\n",
       "      <td>0</td>\n",
       "      <td>0</td>\n",
       "      <td>0</td>\n",
       "      <td>1</td>\n",
       "      <td>0.1426</td>\n",
       "      <td>102.92</td>\n",
       "      <td>11.299732</td>\n",
       "      <td>14.97</td>\n",
       "      <td>667</td>\n",
       "      <td>4066.000000</td>\n",
       "      <td>4740</td>\n",
       "      <td>39.5</td>\n",
       "      <td>0</td>\n",
       "      <td>1</td>\n",
       "      <td>0</td>\n",
       "    </tr>\n",
       "  </tbody>\n",
       "</table>\n",
       "</div>"
      ],
      "text/plain": [
       "   purpose_all_other  purpose_credit_card  purpose_debt_consolidation  \\\n",
       "0                  0                    0                           1   \n",
       "1                  0                    1                           0   \n",
       "2                  0                    0                           1   \n",
       "3                  0                    0                           1   \n",
       "4                  0                    1                           0   \n",
       "\n",
       "   purpose_educational  purpose_home_improvement  purpose_major_purchase  \\\n",
       "0                    0                         0                       0   \n",
       "1                    0                         0                       0   \n",
       "2                    0                         0                       0   \n",
       "3                    0                         0                       0   \n",
       "4                    0                         0                       0   \n",
       "\n",
       "   purpose_small_business  credit.policy  int.rate  installment  \\\n",
       "0                       0              1    0.1189       829.10   \n",
       "1                       0              1    0.1071       228.22   \n",
       "2                       0              1    0.1357       366.86   \n",
       "3                       0              1    0.1008       162.34   \n",
       "4                       0              1    0.1426       102.92   \n",
       "\n",
       "   log.annual.inc    dti  fico  days.with.cr.line  revol.bal  revol.util  \\\n",
       "0       11.350407  19.48   737        5639.958333      28854        52.1   \n",
       "1       11.082143  14.29   707        2760.000000      33623        76.7   \n",
       "2       10.373491  11.63   682        4710.000000       3511        25.6   \n",
       "3       11.350407   8.10   712        2699.958333      33667        73.2   \n",
       "4       11.299732  14.97   667        4066.000000       4740        39.5   \n",
       "\n",
       "   inq.last.6mths  delinq.2yrs  pub.rec  \n",
       "0               0            0        0  \n",
       "1               0            0        0  \n",
       "2               1            0        0  \n",
       "3               1            0        0  \n",
       "4               0            1        0  "
      ]
     },
     "execution_count": 10,
     "metadata": {},
     "output_type": "execute_result"
    }
   ],
   "source": [
    "x.head()"
   ]
  },
  {
   "cell_type": "code",
   "execution_count": 11,
   "metadata": {},
   "outputs": [
    {
     "data": {
      "text/plain": [
       "0    8045\n",
       "1    1533\n",
       "Name: not.fully.paid, dtype: int64"
      ]
     },
     "execution_count": 11,
     "metadata": {},
     "output_type": "execute_result"
    }
   ],
   "source": [
    "y.value_counts()"
   ]
  },
  {
   "cell_type": "markdown",
   "metadata": {},
   "source": [
    "### Train and Test Fit"
   ]
  },
  {
   "cell_type": "code",
   "execution_count": 12,
   "metadata": {},
   "outputs": [],
   "source": [
    "train, test, y_train, y_test = train_test_split(\n",
    "     x, y, test_size=0.2, random_state=101)"
   ]
  },
  {
   "cell_type": "markdown",
   "metadata": {},
   "source": [
    "### Fit and Predict the Model"
   ]
  },
  {
   "cell_type": "code",
   "execution_count": 13,
   "metadata": {},
   "outputs": [],
   "source": [
    "lr = LogisticRegression()\n",
    "lr.fit(train, y_train)\n",
    "y_pred = lr.predict(test)"
   ]
  },
  {
   "cell_type": "markdown",
   "metadata": {},
   "source": [
    "### Evaluting the model"
   ]
  },
  {
   "cell_type": "code",
   "execution_count": 14,
   "metadata": {},
   "outputs": [
    {
     "name": "stdout",
     "output_type": "stream",
     "text": [
      "Accuracy: 0.8460334029227558\n",
      "Confusion Matrix: [[1617    6]\n",
      " [ 289    4]]\n",
      "Classification Report:               precision    recall  f1-score   support\n",
      "\n",
      "           0       0.85      1.00      0.92      1623\n",
      "           1       0.40      0.01      0.03       293\n",
      "\n",
      "    accuracy                           0.85      1916\n",
      "   macro avg       0.62      0.50      0.47      1916\n",
      "weighted avg       0.78      0.85      0.78      1916\n",
      "\n",
      "ROC_AUC_Score: 0.504977509731063\n"
     ]
    }
   ],
   "source": [
    "print('Accuracy:',accuracy_score(y_test,y_pred))\n",
    "print('Confusion Matrix:',confusion_matrix(y_test,y_pred))\n",
    "print('Classification Report:',classification_report(y_test,y_pred))\n",
    "print('ROC_AUC_Score:',roc_auc_score(y_test,y_pred))"
   ]
  },
  {
   "cell_type": "code",
   "execution_count": 15,
   "metadata": {},
   "outputs": [],
   "source": [
    "def fit_predict(train, test, y_train, y_test, scaler, max_depth, \n",
    "                criterion = 'entropy', max_features = 1, min_samples_split = 4):\n",
    "    train_scaled = scaler.fit_transform(train)\n",
    "    test_scaled = scaler.transform(test)        \n",
    "    dt = DecisionTreeClassifier(criterion = criterion, max_depth=max_depth, \n",
    "                                random_state=42, max_features=max_features,\n",
    "                               min_samples_split=min_samples_split)\n",
    "    dt.fit(train_scaled, y_train)\n",
    "    y_pred = dt.predict(test_scaled)\n",
    "    print(accuracy_score(y_test, y_pred))"
   ]
  },
  {
   "cell_type": "code",
   "execution_count": 16,
   "metadata": {},
   "outputs": [
    {
     "name": "stdout",
     "output_type": "stream",
     "text": [
      "0.7286012526096033\n"
     ]
    }
   ],
   "source": [
    "dt = DecisionTreeClassifier()\n",
    "dt.fit(train, y_train)\n",
    "y_pred = dt.predict(test)\n",
    "print(accuracy_score(y_test, y_pred))"
   ]
  },
  {
   "cell_type": "markdown",
   "metadata": {},
   "source": [
    "### Max depth tuning"
   ]
  },
  {
   "cell_type": "code",
   "execution_count": 17,
   "metadata": {},
   "outputs": [
    {
     "name": "stdout",
     "output_type": "stream",
     "text": [
      "Accuracy score using max_depth =  1: 0.8470772442588727\n",
      "Accuracy score using max_depth =  2: 0.8470772442588727\n",
      "Accuracy score using max_depth =  3: 0.8470772442588727\n",
      "Accuracy score using max_depth =  4: 0.8470772442588727\n",
      "Accuracy score using max_depth =  5: 0.8470772442588727\n",
      "Accuracy score using max_depth =  6: 0.8455114822546973\n",
      "Accuracy score using max_depth =  7: 0.8465553235908142\n",
      "Accuracy score using max_depth =  8: 0.8434237995824635\n",
      "Accuracy score using max_depth =  9: 0.8402922755741128\n",
      "Accuracy score using max_depth =  10: 0.837160751565762\n",
      "Accuracy score using max_depth =  11: 0.8355949895615866\n",
      "Accuracy score using max_depth =  12: 0.8319415448851775\n",
      "Accuracy score using max_depth =  13: 0.826722338204593\n",
      "Accuracy score using max_depth =  14: 0.8308977035490606\n",
      "Accuracy score using max_depth =  15: 0.81419624217119\n",
      "Accuracy score using max_depth =  16: 0.7875782881002088\n",
      "Accuracy score using max_depth =  17: 0.8021920668058455\n",
      "Accuracy score using max_depth =  18: 0.8016701461377871\n",
      "Accuracy score using max_depth =  19: 0.7870563674321504\n",
      "Accuracy score using max_depth =  20: 0.7938413361169102\n",
      "Accuracy score using max_depth =  21: 0.7766179540709812\n",
      "Accuracy score using max_depth =  22: 0.7823590814196242\n",
      "Accuracy score using max_depth =  23: 0.8001043841336117\n",
      "Accuracy score using max_depth =  24: 0.7828810020876826\n",
      "Accuracy score using max_depth =  25: 0.774008350730689\n",
      "Accuracy score using max_depth =  26: 0.7750521920668059\n",
      "Accuracy score using max_depth =  27: 0.767223382045929\n",
      "Accuracy score using max_depth =  28: 0.7630480167014614\n",
      "Accuracy score using max_depth =  29: 0.7724425887265136\n"
     ]
    }
   ],
   "source": [
    "for i in range(1, 30):\n",
    "    print(\"Accuracy score using max_depth = \", i, end = ': ')\n",
    "    fit_predict(train, test, y_train, y_test, StandardScaler(), i)"
   ]
  },
  {
   "cell_type": "markdown",
   "metadata": {},
   "source": [
    "### Max feature tuning"
   ]
  },
  {
   "cell_type": "code",
   "execution_count": 18,
   "metadata": {},
   "outputs": [
    {
     "name": "stdout",
     "output_type": "stream",
     "text": [
      "Accuracy score using max_features =  0.1: 0.8470772442588727\n",
      "Accuracy score using max_features =  0.2: 0.8470772442588727\n",
      "Accuracy score using max_features =  0.30000000000000004: 0.8470772442588727\n",
      "Accuracy score using max_features =  0.4: 0.8470772442588727\n",
      "Accuracy score using max_features =  0.5: 0.8470772442588727\n",
      "Accuracy score using max_features =  0.6: 0.8470772442588727\n",
      "Accuracy score using max_features =  0.7000000000000001: 0.8470772442588727\n",
      "Accuracy score using max_features =  0.8: 0.8470772442588727\n",
      "Accuracy score using max_features =  0.9: 0.8470772442588727\n"
     ]
    }
   ],
   "source": [
    "for i in np.arange(0.1,1.0,0.1):\n",
    "    print(\"Accuracy score using max_features = \", i, end = ': ')\n",
    "    fit_predict(train, test, y_train, y_test, StandardScaler(), max_depth=1, max_features=i)"
   ]
  },
  {
   "cell_type": "markdown",
   "metadata": {},
   "source": [
    "### Min Samples split tunning"
   ]
  },
  {
   "cell_type": "code",
   "execution_count": 19,
   "metadata": {},
   "outputs": [
    {
     "name": "stdout",
     "output_type": "stream",
     "text": [
      "Accuracy score using max_features =  2: 0.8470772442588727\n",
      "Accuracy score using max_features =  3: 0.8470772442588727\n",
      "Accuracy score using max_features =  4: 0.8470772442588727\n",
      "Accuracy score using max_features =  5: 0.8470772442588727\n",
      "Accuracy score using max_features =  6: 0.8470772442588727\n",
      "Accuracy score using max_features =  7: 0.8470772442588727\n",
      "Accuracy score using max_features =  8: 0.8470772442588727\n",
      "Accuracy score using max_features =  9: 0.8470772442588727\n"
     ]
    }
   ],
   "source": [
    "for i in range(2,10):\n",
    "    print(\"Accuracy score using max_features = \", i, end = ': ')\n",
    "    fit_predict(train, test, y_train, y_test, StandardScaler(), max_depth=1, max_features=1, min_samples_split=i)"
   ]
  },
  {
   "cell_type": "markdown",
   "metadata": {},
   "source": [
    "### Criterion Tunning"
   ]
  },
  {
   "cell_type": "code",
   "execution_count": 20,
   "metadata": {},
   "outputs": [
    {
     "name": "stdout",
     "output_type": "stream",
     "text": [
      "Accuracy score using criterion =  gini: 0.8470772442588727\n",
      "Accuracy score using criterion =  entropy: 0.8470772442588727\n"
     ]
    }
   ],
   "source": [
    "for i in ['gini', 'entropy']:\n",
    "    print(\"Accuracy score using criterion = \", i, end = ': ')\n",
    "    fit_predict(train, test, y_train, y_test, StandardScaler(), 1, max_features=1, min_samples_split=2, criterion=i) "
   ]
  },
  {
   "cell_type": "code",
   "execution_count": 21,
   "metadata": {},
   "outputs": [],
   "source": [
    "def create_poly(train, test, degree):\n",
    "    poly = PolynomialFeatures(degree=degree)\n",
    "    train_poly = poly.fit_transform(train)\n",
    "    test_poly = poly.fit_transform(test)\n",
    "    return train_poly, test_poly"
   ]
  },
  {
   "cell_type": "code",
   "execution_count": 22,
   "metadata": {},
   "outputs": [
    {
     "name": "stdout",
     "output_type": "stream",
     "text": [
      "Polynominal degree 1\n",
      "0.7620041753653445\n",
      "----------\n",
      "Polynominal degree 2\n",
      "0.7620041753653445\n",
      "----------\n",
      "Polynominal degree 3\n",
      "0.7620041753653445\n",
      "----------\n",
      "Polynominal degree 4\n",
      "0.7620041753653445\n",
      "----------\n"
     ]
    }
   ],
   "source": [
    "for degree in [1,2,3,4]:\n",
    "    train_poly, test_poly = create_poly(train, test, degree)\n",
    "    print(\"Polynominal degree\", degree)\n",
    "    fit_predict(train, test, y_train, y_test, StandardScaler(), 25, max_features=0.3, min_samples_split=2, criterion='entropy')\n",
    "    print(10*'-')"
   ]
  },
  {
   "cell_type": "markdown",
   "metadata": {},
   "source": [
    "### Random Forest"
   ]
  },
  {
   "cell_type": "code",
   "execution_count": 23,
   "metadata": {},
   "outputs": [],
   "source": [
    "from sklearn.ensemble import RandomForestClassifier"
   ]
  },
  {
   "cell_type": "code",
   "execution_count": 24,
   "metadata": {},
   "outputs": [],
   "source": [
    "rf = RandomForestClassifier()"
   ]
  },
  {
   "cell_type": "code",
   "execution_count": 25,
   "metadata": {},
   "outputs": [
    {
     "data": {
      "text/plain": [
       "RandomForestClassifier(bootstrap=True, ccp_alpha=0.0, class_weight=None,\n",
       "                       criterion='gini', max_depth=None, max_features='auto',\n",
       "                       max_leaf_nodes=None, max_samples=None,\n",
       "                       min_impurity_decrease=0.0, min_impurity_split=None,\n",
       "                       min_samples_leaf=1, min_samples_split=2,\n",
       "                       min_weight_fraction_leaf=0.0, n_estimators=100,\n",
       "                       n_jobs=None, oob_score=False, random_state=None,\n",
       "                       verbose=0, warm_start=False)"
      ]
     },
     "execution_count": 25,
     "metadata": {},
     "output_type": "execute_result"
    }
   ],
   "source": [
    "rf.fit(train, y_train)"
   ]
  },
  {
   "cell_type": "code",
   "execution_count": 26,
   "metadata": {},
   "outputs": [],
   "source": [
    "pred_rf = rf.predict(test)"
   ]
  },
  {
   "cell_type": "code",
   "execution_count": 27,
   "metadata": {},
   "outputs": [],
   "source": [
    "from sklearn.model_selection import GridSearchCV"
   ]
  },
  {
   "cell_type": "code",
   "execution_count": 28,
   "metadata": {},
   "outputs": [],
   "source": [
    "params = {'n_estimators': [200,500,700], 'max_depth': [10,15,18,20], 'min_samples_leaf': [3,5,7]}"
   ]
  },
  {
   "cell_type": "code",
   "execution_count": 29,
   "metadata": {},
   "outputs": [],
   "source": [
    "gs = GridSearchCV(rf, params, verbose=3)"
   ]
  },
  {
   "cell_type": "code",
   "execution_count": 30,
   "metadata": {},
   "outputs": [
    {
     "name": "stdout",
     "output_type": "stream",
     "text": [
      "Fitting 5 folds for each of 36 candidates, totalling 180 fits\n",
      "[CV] max_depth=10, min_samples_leaf=3, n_estimators=200 ..............\n"
     ]
    },
    {
     "name": "stderr",
     "output_type": "stream",
     "text": [
      "[Parallel(n_jobs=1)]: Using backend SequentialBackend with 1 concurrent workers.\n"
     ]
    },
    {
     "name": "stdout",
     "output_type": "stream",
     "text": [
      "[CV]  max_depth=10, min_samples_leaf=3, n_estimators=200, score=0.838, total=   1.6s\n",
      "[CV] max_depth=10, min_samples_leaf=3, n_estimators=200 ..............\n"
     ]
    },
    {
     "name": "stderr",
     "output_type": "stream",
     "text": [
      "[Parallel(n_jobs=1)]: Done   1 out of   1 | elapsed:    1.5s remaining:    0.0s\n"
     ]
    },
    {
     "name": "stdout",
     "output_type": "stream",
     "text": [
      "[CV]  max_depth=10, min_samples_leaf=3, n_estimators=200, score=0.838, total=   1.6s\n",
      "[CV] max_depth=10, min_samples_leaf=3, n_estimators=200 ..............\n"
     ]
    },
    {
     "name": "stderr",
     "output_type": "stream",
     "text": [
      "[Parallel(n_jobs=1)]: Done   2 out of   2 | elapsed:    3.1s remaining:    0.0s\n"
     ]
    },
    {
     "name": "stdout",
     "output_type": "stream",
     "text": [
      "[CV]  max_depth=10, min_samples_leaf=3, n_estimators=200, score=0.839, total=   1.6s\n",
      "[CV] max_depth=10, min_samples_leaf=3, n_estimators=200 ..............\n",
      "[CV]  max_depth=10, min_samples_leaf=3, n_estimators=200, score=0.837, total=   1.6s\n",
      "[CV] max_depth=10, min_samples_leaf=3, n_estimators=200 ..............\n",
      "[CV]  max_depth=10, min_samples_leaf=3, n_estimators=200, score=0.839, total=   1.6s\n",
      "[CV] max_depth=10, min_samples_leaf=3, n_estimators=500 ..............\n",
      "[CV]  max_depth=10, min_samples_leaf=3, n_estimators=500, score=0.838, total=   4.2s\n",
      "[CV] max_depth=10, min_samples_leaf=3, n_estimators=500 ..............\n",
      "[CV]  max_depth=10, min_samples_leaf=3, n_estimators=500, score=0.838, total=   4.1s\n",
      "[CV] max_depth=10, min_samples_leaf=3, n_estimators=500 ..............\n",
      "[CV]  max_depth=10, min_samples_leaf=3, n_estimators=500, score=0.839, total=   4.4s\n",
      "[CV] max_depth=10, min_samples_leaf=3, n_estimators=500 ..............\n",
      "[CV]  max_depth=10, min_samples_leaf=3, n_estimators=500, score=0.839, total=   4.2s\n",
      "[CV] max_depth=10, min_samples_leaf=3, n_estimators=500 ..............\n",
      "[CV]  max_depth=10, min_samples_leaf=3, n_estimators=500, score=0.838, total=   4.0s\n",
      "[CV] max_depth=10, min_samples_leaf=3, n_estimators=700 ..............\n",
      "[CV]  max_depth=10, min_samples_leaf=3, n_estimators=700, score=0.838, total=   5.5s\n",
      "[CV] max_depth=10, min_samples_leaf=3, n_estimators=700 ..............\n",
      "[CV]  max_depth=10, min_samples_leaf=3, n_estimators=700, score=0.838, total=   5.7s\n",
      "[CV] max_depth=10, min_samples_leaf=3, n_estimators=700 ..............\n",
      "[CV]  max_depth=10, min_samples_leaf=3, n_estimators=700, score=0.839, total=   5.5s\n",
      "[CV] max_depth=10, min_samples_leaf=3, n_estimators=700 ..............\n",
      "[CV]  max_depth=10, min_samples_leaf=3, n_estimators=700, score=0.838, total=   5.7s\n",
      "[CV] max_depth=10, min_samples_leaf=3, n_estimators=700 ..............\n",
      "[CV]  max_depth=10, min_samples_leaf=3, n_estimators=700, score=0.838, total=   5.5s\n",
      "[CV] max_depth=10, min_samples_leaf=5, n_estimators=200 ..............\n",
      "[CV]  max_depth=10, min_samples_leaf=5, n_estimators=200, score=0.838, total=   1.6s\n",
      "[CV] max_depth=10, min_samples_leaf=5, n_estimators=200 ..............\n",
      "[CV]  max_depth=10, min_samples_leaf=5, n_estimators=200, score=0.837, total=   1.6s\n",
      "[CV] max_depth=10, min_samples_leaf=5, n_estimators=200 ..............\n",
      "[CV]  max_depth=10, min_samples_leaf=5, n_estimators=200, score=0.839, total=   1.6s\n",
      "[CV] max_depth=10, min_samples_leaf=5, n_estimators=200 ..............\n",
      "[CV]  max_depth=10, min_samples_leaf=5, n_estimators=200, score=0.837, total=   1.6s\n",
      "[CV] max_depth=10, min_samples_leaf=5, n_estimators=200 ..............\n",
      "[CV]  max_depth=10, min_samples_leaf=5, n_estimators=200, score=0.837, total=   1.6s\n",
      "[CV] max_depth=10, min_samples_leaf=5, n_estimators=500 ..............\n",
      "[CV]  max_depth=10, min_samples_leaf=5, n_estimators=500, score=0.838, total=   3.9s\n",
      "[CV] max_depth=10, min_samples_leaf=5, n_estimators=500 ..............\n",
      "[CV]  max_depth=10, min_samples_leaf=5, n_estimators=500, score=0.838, total=   4.1s\n",
      "[CV] max_depth=10, min_samples_leaf=5, n_estimators=500 ..............\n",
      "[CV]  max_depth=10, min_samples_leaf=5, n_estimators=500, score=0.839, total=   3.9s\n",
      "[CV] max_depth=10, min_samples_leaf=5, n_estimators=500 ..............\n",
      "[CV]  max_depth=10, min_samples_leaf=5, n_estimators=500, score=0.837, total=   3.9s\n",
      "[CV] max_depth=10, min_samples_leaf=5, n_estimators=500 ..............\n",
      "[CV]  max_depth=10, min_samples_leaf=5, n_estimators=500, score=0.838, total=   3.9s\n",
      "[CV] max_depth=10, min_samples_leaf=5, n_estimators=700 ..............\n",
      "[CV]  max_depth=10, min_samples_leaf=5, n_estimators=700, score=0.838, total=   5.6s\n",
      "[CV] max_depth=10, min_samples_leaf=5, n_estimators=700 ..............\n",
      "[CV]  max_depth=10, min_samples_leaf=5, n_estimators=700, score=0.838, total=   6.0s\n",
      "[CV] max_depth=10, min_samples_leaf=5, n_estimators=700 ..............\n",
      "[CV]  max_depth=10, min_samples_leaf=5, n_estimators=700, score=0.839, total=   5.7s\n",
      "[CV] max_depth=10, min_samples_leaf=5, n_estimators=700 ..............\n",
      "[CV]  max_depth=10, min_samples_leaf=5, n_estimators=700, score=0.838, total=   5.8s\n",
      "[CV] max_depth=10, min_samples_leaf=5, n_estimators=700 ..............\n",
      "[CV]  max_depth=10, min_samples_leaf=5, n_estimators=700, score=0.838, total=   5.9s\n",
      "[CV] max_depth=10, min_samples_leaf=7, n_estimators=200 ..............\n",
      "[CV]  max_depth=10, min_samples_leaf=7, n_estimators=200, score=0.837, total=   1.6s\n",
      "[CV] max_depth=10, min_samples_leaf=7, n_estimators=200 ..............\n",
      "[CV]  max_depth=10, min_samples_leaf=7, n_estimators=200, score=0.838, total=   1.6s\n",
      "[CV] max_depth=10, min_samples_leaf=7, n_estimators=200 ..............\n",
      "[CV]  max_depth=10, min_samples_leaf=7, n_estimators=200, score=0.838, total=   1.7s\n",
      "[CV] max_depth=10, min_samples_leaf=7, n_estimators=200 ..............\n",
      "[CV]  max_depth=10, min_samples_leaf=7, n_estimators=200, score=0.838, total=   1.6s\n",
      "[CV] max_depth=10, min_samples_leaf=7, n_estimators=200 ..............\n",
      "[CV]  max_depth=10, min_samples_leaf=7, n_estimators=200, score=0.837, total=   1.6s\n",
      "[CV] max_depth=10, min_samples_leaf=7, n_estimators=500 ..............\n",
      "[CV]  max_depth=10, min_samples_leaf=7, n_estimators=500, score=0.838, total=   3.9s\n",
      "[CV] max_depth=10, min_samples_leaf=7, n_estimators=500 ..............\n",
      "[CV]  max_depth=10, min_samples_leaf=7, n_estimators=500, score=0.838, total=   4.0s\n",
      "[CV] max_depth=10, min_samples_leaf=7, n_estimators=500 ..............\n",
      "[CV]  max_depth=10, min_samples_leaf=7, n_estimators=500, score=0.838, total=   3.9s\n",
      "[CV] max_depth=10, min_samples_leaf=7, n_estimators=500 ..............\n",
      "[CV]  max_depth=10, min_samples_leaf=7, n_estimators=500, score=0.838, total=   3.8s\n",
      "[CV] max_depth=10, min_samples_leaf=7, n_estimators=500 ..............\n",
      "[CV]  max_depth=10, min_samples_leaf=7, n_estimators=500, score=0.838, total=   3.8s\n",
      "[CV] max_depth=10, min_samples_leaf=7, n_estimators=700 ..............\n",
      "[CV]  max_depth=10, min_samples_leaf=7, n_estimators=700, score=0.838, total=   5.7s\n",
      "[CV] max_depth=10, min_samples_leaf=7, n_estimators=700 ..............\n",
      "[CV]  max_depth=10, min_samples_leaf=7, n_estimators=700, score=0.838, total=   5.5s\n",
      "[CV] max_depth=10, min_samples_leaf=7, n_estimators=700 ..............\n",
      "[CV]  max_depth=10, min_samples_leaf=7, n_estimators=700, score=0.838, total=   5.5s\n",
      "[CV] max_depth=10, min_samples_leaf=7, n_estimators=700 ..............\n",
      "[CV]  max_depth=10, min_samples_leaf=7, n_estimators=700, score=0.838, total=   5.5s\n",
      "[CV] max_depth=10, min_samples_leaf=7, n_estimators=700 ..............\n",
      "[CV]  max_depth=10, min_samples_leaf=7, n_estimators=700, score=0.838, total=   5.6s\n",
      "[CV] max_depth=15, min_samples_leaf=3, n_estimators=200 ..............\n",
      "[CV]  max_depth=15, min_samples_leaf=3, n_estimators=200, score=0.840, total=   2.2s\n",
      "[CV] max_depth=15, min_samples_leaf=3, n_estimators=200 ..............\n",
      "[CV]  max_depth=15, min_samples_leaf=3, n_estimators=200, score=0.836, total=   2.0s\n",
      "[CV] max_depth=15, min_samples_leaf=3, n_estimators=200 ..............\n",
      "[CV]  max_depth=15, min_samples_leaf=3, n_estimators=200, score=0.839, total=   2.4s\n",
      "[CV] max_depth=15, min_samples_leaf=3, n_estimators=200 ..............\n",
      "[CV]  max_depth=15, min_samples_leaf=3, n_estimators=200, score=0.836, total=   2.0s\n",
      "[CV] max_depth=15, min_samples_leaf=3, n_estimators=200 ..............\n",
      "[CV]  max_depth=15, min_samples_leaf=3, n_estimators=200, score=0.837, total=   2.5s\n",
      "[CV] max_depth=15, min_samples_leaf=3, n_estimators=500 ..............\n",
      "[CV]  max_depth=15, min_samples_leaf=3, n_estimators=500, score=0.840, total=   6.7s\n",
      "[CV] max_depth=15, min_samples_leaf=3, n_estimators=500 ..............\n",
      "[CV]  max_depth=15, min_samples_leaf=3, n_estimators=500, score=0.837, total=   5.2s\n",
      "[CV] max_depth=15, min_samples_leaf=3, n_estimators=500 ..............\n",
      "[CV]  max_depth=15, min_samples_leaf=3, n_estimators=500, score=0.840, total=   4.9s\n",
      "[CV] max_depth=15, min_samples_leaf=3, n_estimators=500 ..............\n",
      "[CV]  max_depth=15, min_samples_leaf=3, n_estimators=500, score=0.839, total=   4.9s\n",
      "[CV] max_depth=15, min_samples_leaf=3, n_estimators=500 ..............\n",
      "[CV]  max_depth=15, min_samples_leaf=3, n_estimators=500, score=0.837, total=   4.8s\n",
      "[CV] max_depth=15, min_samples_leaf=3, n_estimators=700 ..............\n"
     ]
    },
    {
     "name": "stdout",
     "output_type": "stream",
     "text": [
      "[CV]  max_depth=15, min_samples_leaf=3, n_estimators=700, score=0.840, total=   7.0s\n",
      "[CV] max_depth=15, min_samples_leaf=3, n_estimators=700 ..............\n",
      "[CV]  max_depth=15, min_samples_leaf=3, n_estimators=700, score=0.837, total=   7.1s\n",
      "[CV] max_depth=15, min_samples_leaf=3, n_estimators=700 ..............\n",
      "[CV]  max_depth=15, min_samples_leaf=3, n_estimators=700, score=0.838, total=   7.3s\n",
      "[CV] max_depth=15, min_samples_leaf=3, n_estimators=700 ..............\n",
      "[CV]  max_depth=15, min_samples_leaf=3, n_estimators=700, score=0.838, total=   7.1s\n",
      "[CV] max_depth=15, min_samples_leaf=3, n_estimators=700 ..............\n",
      "[CV]  max_depth=15, min_samples_leaf=3, n_estimators=700, score=0.836, total=   6.7s\n",
      "[CV] max_depth=15, min_samples_leaf=5, n_estimators=200 ..............\n",
      "[CV]  max_depth=15, min_samples_leaf=5, n_estimators=200, score=0.839, total=   1.9s\n",
      "[CV] max_depth=15, min_samples_leaf=5, n_estimators=200 ..............\n",
      "[CV]  max_depth=15, min_samples_leaf=5, n_estimators=200, score=0.838, total=   1.8s\n",
      "[CV] max_depth=15, min_samples_leaf=5, n_estimators=200 ..............\n",
      "[CV]  max_depth=15, min_samples_leaf=5, n_estimators=200, score=0.839, total=   1.9s\n",
      "[CV] max_depth=15, min_samples_leaf=5, n_estimators=200 ..............\n",
      "[CV]  max_depth=15, min_samples_leaf=5, n_estimators=200, score=0.838, total=   2.0s\n",
      "[CV] max_depth=15, min_samples_leaf=5, n_estimators=200 ..............\n",
      "[CV]  max_depth=15, min_samples_leaf=5, n_estimators=200, score=0.837, total=   1.9s\n",
      "[CV] max_depth=15, min_samples_leaf=5, n_estimators=500 ..............\n",
      "[CV]  max_depth=15, min_samples_leaf=5, n_estimators=500, score=0.839, total=   4.6s\n",
      "[CV] max_depth=15, min_samples_leaf=5, n_estimators=500 ..............\n",
      "[CV]  max_depth=15, min_samples_leaf=5, n_estimators=500, score=0.837, total=   4.6s\n",
      "[CV] max_depth=15, min_samples_leaf=5, n_estimators=500 ..............\n",
      "[CV]  max_depth=15, min_samples_leaf=5, n_estimators=500, score=0.839, total=   4.6s\n",
      "[CV] max_depth=15, min_samples_leaf=5, n_estimators=500 ..............\n",
      "[CV]  max_depth=15, min_samples_leaf=5, n_estimators=500, score=0.838, total=   4.6s\n",
      "[CV] max_depth=15, min_samples_leaf=5, n_estimators=500 ..............\n",
      "[CV]  max_depth=15, min_samples_leaf=5, n_estimators=500, score=0.836, total=   4.6s\n",
      "[CV] max_depth=15, min_samples_leaf=5, n_estimators=700 ..............\n",
      "[CV]  max_depth=15, min_samples_leaf=5, n_estimators=700, score=0.839, total=   6.6s\n",
      "[CV] max_depth=15, min_samples_leaf=5, n_estimators=700 ..............\n",
      "[CV]  max_depth=15, min_samples_leaf=5, n_estimators=700, score=0.838, total=   6.8s\n",
      "[CV] max_depth=15, min_samples_leaf=5, n_estimators=700 ..............\n",
      "[CV]  max_depth=15, min_samples_leaf=5, n_estimators=700, score=0.839, total=   7.2s\n",
      "[CV] max_depth=15, min_samples_leaf=5, n_estimators=700 ..............\n",
      "[CV]  max_depth=15, min_samples_leaf=5, n_estimators=700, score=0.837, total=   7.0s\n",
      "[CV] max_depth=15, min_samples_leaf=5, n_estimators=700 ..............\n",
      "[CV]  max_depth=15, min_samples_leaf=5, n_estimators=700, score=0.837, total=   6.6s\n",
      "[CV] max_depth=15, min_samples_leaf=7, n_estimators=200 ..............\n",
      "[CV]  max_depth=15, min_samples_leaf=7, n_estimators=200, score=0.839, total=   1.9s\n",
      "[CV] max_depth=15, min_samples_leaf=7, n_estimators=200 ..............\n",
      "[CV]  max_depth=15, min_samples_leaf=7, n_estimators=200, score=0.838, total=   1.9s\n",
      "[CV] max_depth=15, min_samples_leaf=7, n_estimators=200 ..............\n",
      "[CV]  max_depth=15, min_samples_leaf=7, n_estimators=200, score=0.839, total=   1.8s\n",
      "[CV] max_depth=15, min_samples_leaf=7, n_estimators=200 ..............\n",
      "[CV]  max_depth=15, min_samples_leaf=7, n_estimators=200, score=0.839, total=   1.8s\n",
      "[CV] max_depth=15, min_samples_leaf=7, n_estimators=200 ..............\n",
      "[CV]  max_depth=15, min_samples_leaf=7, n_estimators=200, score=0.838, total=   1.9s\n",
      "[CV] max_depth=15, min_samples_leaf=7, n_estimators=500 ..............\n",
      "[CV]  max_depth=15, min_samples_leaf=7, n_estimators=500, score=0.838, total=   4.6s\n",
      "[CV] max_depth=15, min_samples_leaf=7, n_estimators=500 ..............\n",
      "[CV]  max_depth=15, min_samples_leaf=7, n_estimators=500, score=0.838, total=   4.5s\n",
      "[CV] max_depth=15, min_samples_leaf=7, n_estimators=500 ..............\n",
      "[CV]  max_depth=15, min_samples_leaf=7, n_estimators=500, score=0.839, total=   4.7s\n",
      "[CV] max_depth=15, min_samples_leaf=7, n_estimators=500 ..............\n",
      "[CV]  max_depth=15, min_samples_leaf=7, n_estimators=500, score=0.838, total=   4.5s\n",
      "[CV] max_depth=15, min_samples_leaf=7, n_estimators=500 ..............\n",
      "[CV]  max_depth=15, min_samples_leaf=7, n_estimators=500, score=0.837, total=   4.6s\n",
      "[CV] max_depth=15, min_samples_leaf=7, n_estimators=700 ..............\n",
      "[CV]  max_depth=15, min_samples_leaf=7, n_estimators=700, score=0.838, total=   6.5s\n",
      "[CV] max_depth=15, min_samples_leaf=7, n_estimators=700 ..............\n",
      "[CV]  max_depth=15, min_samples_leaf=7, n_estimators=700, score=0.838, total=   6.6s\n",
      "[CV] max_depth=15, min_samples_leaf=7, n_estimators=700 ..............\n",
      "[CV]  max_depth=15, min_samples_leaf=7, n_estimators=700, score=0.839, total=   7.1s\n",
      "[CV] max_depth=15, min_samples_leaf=7, n_estimators=700 ..............\n",
      "[CV]  max_depth=15, min_samples_leaf=7, n_estimators=700, score=0.837, total=   6.6s\n",
      "[CV] max_depth=15, min_samples_leaf=7, n_estimators=700 ..............\n",
      "[CV]  max_depth=15, min_samples_leaf=7, n_estimators=700, score=0.838, total=   6.7s\n",
      "[CV] max_depth=18, min_samples_leaf=3, n_estimators=200 ..............\n",
      "[CV]  max_depth=18, min_samples_leaf=3, n_estimators=200, score=0.840, total=   2.0s\n",
      "[CV] max_depth=18, min_samples_leaf=3, n_estimators=200 ..............\n",
      "[CV]  max_depth=18, min_samples_leaf=3, n_estimators=200, score=0.836, total=   2.3s\n",
      "[CV] max_depth=18, min_samples_leaf=3, n_estimators=200 ..............\n",
      "[CV]  max_depth=18, min_samples_leaf=3, n_estimators=200, score=0.838, total=   2.1s\n",
      "[CV] max_depth=18, min_samples_leaf=3, n_estimators=200 ..............\n",
      "[CV]  max_depth=18, min_samples_leaf=3, n_estimators=200, score=0.837, total=   2.4s\n",
      "[CV] max_depth=18, min_samples_leaf=3, n_estimators=200 ..............\n",
      "[CV]  max_depth=18, min_samples_leaf=3, n_estimators=200, score=0.837, total=   2.3s\n",
      "[CV] max_depth=18, min_samples_leaf=3, n_estimators=500 ..............\n",
      "[CV]  max_depth=18, min_samples_leaf=3, n_estimators=500, score=0.840, total=   5.4s\n",
      "[CV] max_depth=18, min_samples_leaf=3, n_estimators=500 ..............\n",
      "[CV]  max_depth=18, min_samples_leaf=3, n_estimators=500, score=0.836, total=   5.0s\n",
      "[CV] max_depth=18, min_samples_leaf=3, n_estimators=500 ..............\n",
      "[CV]  max_depth=18, min_samples_leaf=3, n_estimators=500, score=0.839, total=   5.2s\n",
      "[CV] max_depth=18, min_samples_leaf=3, n_estimators=500 ..............\n",
      "[CV]  max_depth=18, min_samples_leaf=3, n_estimators=500, score=0.836, total=   5.3s\n",
      "[CV] max_depth=18, min_samples_leaf=3, n_estimators=500 ..............\n",
      "[CV]  max_depth=18, min_samples_leaf=3, n_estimators=500, score=0.837, total=   5.4s\n",
      "[CV] max_depth=18, min_samples_leaf=3, n_estimators=700 ..............\n",
      "[CV]  max_depth=18, min_samples_leaf=3, n_estimators=700, score=0.840, total=   7.9s\n",
      "[CV] max_depth=18, min_samples_leaf=3, n_estimators=700 ..............\n",
      "[CV]  max_depth=18, min_samples_leaf=3, n_estimators=700, score=0.839, total=  10.0s\n",
      "[CV] max_depth=18, min_samples_leaf=3, n_estimators=700 ..............\n",
      "[CV]  max_depth=18, min_samples_leaf=3, n_estimators=700, score=0.839, total=  10.4s\n",
      "[CV] max_depth=18, min_samples_leaf=3, n_estimators=700 ..............\n",
      "[CV]  max_depth=18, min_samples_leaf=3, n_estimators=700, score=0.837, total=   7.8s\n",
      "[CV] max_depth=18, min_samples_leaf=3, n_estimators=700 ..............\n",
      "[CV]  max_depth=18, min_samples_leaf=3, n_estimators=700, score=0.836, total=   7.4s\n",
      "[CV] max_depth=18, min_samples_leaf=5, n_estimators=200 ..............\n",
      "[CV]  max_depth=18, min_samples_leaf=5, n_estimators=200, score=0.839, total=   2.0s\n",
      "[CV] max_depth=18, min_samples_leaf=5, n_estimators=200 ..............\n",
      "[CV]  max_depth=18, min_samples_leaf=5, n_estimators=200, score=0.839, total=   2.1s\n",
      "[CV] max_depth=18, min_samples_leaf=5, n_estimators=200 ..............\n",
      "[CV]  max_depth=18, min_samples_leaf=5, n_estimators=200, score=0.839, total=   2.0s\n",
      "[CV] max_depth=18, min_samples_leaf=5, n_estimators=200 ..............\n"
     ]
    },
    {
     "name": "stdout",
     "output_type": "stream",
     "text": [
      "[CV]  max_depth=18, min_samples_leaf=5, n_estimators=200, score=0.839, total=   2.1s\n",
      "[CV] max_depth=18, min_samples_leaf=5, n_estimators=200 ..............\n",
      "[CV]  max_depth=18, min_samples_leaf=5, n_estimators=200, score=0.837, total=   2.0s\n",
      "[CV] max_depth=18, min_samples_leaf=5, n_estimators=500 ..............\n",
      "[CV]  max_depth=18, min_samples_leaf=5, n_estimators=500, score=0.838, total=   5.3s\n",
      "[CV] max_depth=18, min_samples_leaf=5, n_estimators=500 ..............\n",
      "[CV]  max_depth=18, min_samples_leaf=5, n_estimators=500, score=0.838, total=   6.7s\n",
      "[CV] max_depth=18, min_samples_leaf=5, n_estimators=500 ..............\n",
      "[CV]  max_depth=18, min_samples_leaf=5, n_estimators=500, score=0.839, total=  11.1s\n",
      "[CV] max_depth=18, min_samples_leaf=5, n_estimators=500 ..............\n",
      "[CV]  max_depth=18, min_samples_leaf=5, n_estimators=500, score=0.838, total=  18.0s\n",
      "[CV] max_depth=18, min_samples_leaf=5, n_estimators=500 ..............\n",
      "[CV]  max_depth=18, min_samples_leaf=5, n_estimators=500, score=0.839, total=  32.7s\n",
      "[CV] max_depth=18, min_samples_leaf=5, n_estimators=700 ..............\n",
      "[CV]  max_depth=18, min_samples_leaf=5, n_estimators=700, score=0.839, total=  44.1s\n",
      "[CV] max_depth=18, min_samples_leaf=5, n_estimators=700 ..............\n",
      "[CV]  max_depth=18, min_samples_leaf=5, n_estimators=700, score=0.838, total=  30.8s\n",
      "[CV] max_depth=18, min_samples_leaf=5, n_estimators=700 ..............\n",
      "[CV]  max_depth=18, min_samples_leaf=5, n_estimators=700, score=0.839, total=  51.6s\n",
      "[CV] max_depth=18, min_samples_leaf=5, n_estimators=700 ..............\n",
      "[CV]  max_depth=18, min_samples_leaf=5, n_estimators=700, score=0.839, total=  59.7s\n",
      "[CV] max_depth=18, min_samples_leaf=5, n_estimators=700 ..............\n",
      "[CV]  max_depth=18, min_samples_leaf=5, n_estimators=700, score=0.837, total=  42.5s\n",
      "[CV] max_depth=18, min_samples_leaf=7, n_estimators=200 ..............\n",
      "[CV]  max_depth=18, min_samples_leaf=7, n_estimators=200, score=0.840, total=  10.6s\n",
      "[CV] max_depth=18, min_samples_leaf=7, n_estimators=200 ..............\n",
      "[CV]  max_depth=18, min_samples_leaf=7, n_estimators=200, score=0.838, total=  12.9s\n",
      "[CV] max_depth=18, min_samples_leaf=7, n_estimators=200 ..............\n",
      "[CV]  max_depth=18, min_samples_leaf=7, n_estimators=200, score=0.839, total=  25.6s\n",
      "[CV] max_depth=18, min_samples_leaf=7, n_estimators=200 ..............\n",
      "[CV]  max_depth=18, min_samples_leaf=7, n_estimators=200, score=0.837, total=  11.5s\n",
      "[CV] max_depth=18, min_samples_leaf=7, n_estimators=200 ..............\n",
      "[CV]  max_depth=18, min_samples_leaf=7, n_estimators=200, score=0.837, total=  11.6s\n",
      "[CV] max_depth=18, min_samples_leaf=7, n_estimators=500 ..............\n",
      "[CV]  max_depth=18, min_samples_leaf=7, n_estimators=500, score=0.839, total=  25.6s\n",
      "[CV] max_depth=18, min_samples_leaf=7, n_estimators=500 ..............\n",
      "[CV]  max_depth=18, min_samples_leaf=7, n_estimators=500, score=0.838, total=  41.3s\n",
      "[CV] max_depth=18, min_samples_leaf=7, n_estimators=500 ..............\n",
      "[CV]  max_depth=18, min_samples_leaf=7, n_estimators=500, score=0.839, total=  31.0s\n",
      "[CV] max_depth=18, min_samples_leaf=7, n_estimators=500 ..............\n",
      "[CV]  max_depth=18, min_samples_leaf=7, n_estimators=500, score=0.838, total=  35.9s\n",
      "[CV] max_depth=18, min_samples_leaf=7, n_estimators=500 ..............\n",
      "[CV]  max_depth=18, min_samples_leaf=7, n_estimators=500, score=0.837, total=  27.3s\n",
      "[CV] max_depth=18, min_samples_leaf=7, n_estimators=700 ..............\n",
      "[CV]  max_depth=18, min_samples_leaf=7, n_estimators=700, score=0.839, total=  39.8s\n",
      "[CV] max_depth=18, min_samples_leaf=7, n_estimators=700 ..............\n",
      "[CV]  max_depth=18, min_samples_leaf=7, n_estimators=700, score=0.838, total=  37.4s\n",
      "[CV] max_depth=18, min_samples_leaf=7, n_estimators=700 ..............\n",
      "[CV]  max_depth=18, min_samples_leaf=7, n_estimators=700, score=0.839, total=  18.2s\n",
      "[CV] max_depth=18, min_samples_leaf=7, n_estimators=700 ..............\n",
      "[CV]  max_depth=18, min_samples_leaf=7, n_estimators=700, score=0.838, total=  11.4s\n",
      "[CV] max_depth=18, min_samples_leaf=7, n_estimators=700 ..............\n",
      "[CV]  max_depth=18, min_samples_leaf=7, n_estimators=700, score=0.837, total=  10.9s\n",
      "[CV] max_depth=20, min_samples_leaf=3, n_estimators=200 ..............\n",
      "[CV]  max_depth=20, min_samples_leaf=3, n_estimators=200, score=0.837, total=   3.0s\n",
      "[CV] max_depth=20, min_samples_leaf=3, n_estimators=200 ..............\n",
      "[CV]  max_depth=20, min_samples_leaf=3, n_estimators=200, score=0.837, total=   3.1s\n",
      "[CV] max_depth=20, min_samples_leaf=3, n_estimators=200 ..............\n",
      "[CV]  max_depth=20, min_samples_leaf=3, n_estimators=200, score=0.839, total=   2.8s\n",
      "[CV] max_depth=20, min_samples_leaf=3, n_estimators=200 ..............\n",
      "[CV]  max_depth=20, min_samples_leaf=3, n_estimators=200, score=0.835, total=   2.9s\n",
      "[CV] max_depth=20, min_samples_leaf=3, n_estimators=200 ..............\n",
      "[CV]  max_depth=20, min_samples_leaf=3, n_estimators=200, score=0.836, total=   2.6s\n",
      "[CV] max_depth=20, min_samples_leaf=3, n_estimators=500 ..............\n",
      "[CV]  max_depth=20, min_samples_leaf=3, n_estimators=500, score=0.838, total=   6.9s\n",
      "[CV] max_depth=20, min_samples_leaf=3, n_estimators=500 ..............\n",
      "[CV]  max_depth=20, min_samples_leaf=3, n_estimators=500, score=0.836, total=   7.2s\n",
      "[CV] max_depth=20, min_samples_leaf=3, n_estimators=500 ..............\n",
      "[CV]  max_depth=20, min_samples_leaf=3, n_estimators=500, score=0.839, total=   6.3s\n",
      "[CV] max_depth=20, min_samples_leaf=3, n_estimators=500 ..............\n",
      "[CV]  max_depth=20, min_samples_leaf=3, n_estimators=500, score=0.837, total=   5.4s\n",
      "[CV] max_depth=20, min_samples_leaf=3, n_estimators=500 ..............\n",
      "[CV]  max_depth=20, min_samples_leaf=3, n_estimators=500, score=0.837, total=   5.6s\n",
      "[CV] max_depth=20, min_samples_leaf=3, n_estimators=700 ..............\n",
      "[CV]  max_depth=20, min_samples_leaf=3, n_estimators=700, score=0.841, total=   7.9s\n",
      "[CV] max_depth=20, min_samples_leaf=3, n_estimators=700 ..............\n",
      "[CV]  max_depth=20, min_samples_leaf=3, n_estimators=700, score=0.838, total=   7.7s\n",
      "[CV] max_depth=20, min_samples_leaf=3, n_estimators=700 ..............\n",
      "[CV]  max_depth=20, min_samples_leaf=3, n_estimators=700, score=0.839, total=   7.5s\n",
      "[CV] max_depth=20, min_samples_leaf=3, n_estimators=700 ..............\n",
      "[CV]  max_depth=20, min_samples_leaf=3, n_estimators=700, score=0.836, total=   8.1s\n",
      "[CV] max_depth=20, min_samples_leaf=3, n_estimators=700 ..............\n",
      "[CV]  max_depth=20, min_samples_leaf=3, n_estimators=700, score=0.837, total=   8.2s\n",
      "[CV] max_depth=20, min_samples_leaf=5, n_estimators=200 ..............\n",
      "[CV]  max_depth=20, min_samples_leaf=5, n_estimators=200, score=0.838, total=   2.1s\n",
      "[CV] max_depth=20, min_samples_leaf=5, n_estimators=200 ..............\n",
      "[CV]  max_depth=20, min_samples_leaf=5, n_estimators=200, score=0.836, total=   2.1s\n",
      "[CV] max_depth=20, min_samples_leaf=5, n_estimators=200 ..............\n",
      "[CV]  max_depth=20, min_samples_leaf=5, n_estimators=200, score=0.839, total=   2.2s\n",
      "[CV] max_depth=20, min_samples_leaf=5, n_estimators=200 ..............\n",
      "[CV]  max_depth=20, min_samples_leaf=5, n_estimators=200, score=0.839, total=   2.2s\n",
      "[CV] max_depth=20, min_samples_leaf=5, n_estimators=200 ..............\n",
      "[CV]  max_depth=20, min_samples_leaf=5, n_estimators=200, score=0.837, total=   2.3s\n",
      "[CV] max_depth=20, min_samples_leaf=5, n_estimators=500 ..............\n",
      "[CV]  max_depth=20, min_samples_leaf=5, n_estimators=500, score=0.839, total=   5.1s\n",
      "[CV] max_depth=20, min_samples_leaf=5, n_estimators=500 ..............\n",
      "[CV]  max_depth=20, min_samples_leaf=5, n_estimators=500, score=0.838, total=   5.1s\n",
      "[CV] max_depth=20, min_samples_leaf=5, n_estimators=500 ..............\n",
      "[CV]  max_depth=20, min_samples_leaf=5, n_estimators=500, score=0.839, total=   5.1s\n",
      "[CV] max_depth=20, min_samples_leaf=5, n_estimators=500 ..............\n",
      "[CV]  max_depth=20, min_samples_leaf=5, n_estimators=500, score=0.838, total=   5.2s\n",
      "[CV] max_depth=20, min_samples_leaf=5, n_estimators=500 ..............\n",
      "[CV]  max_depth=20, min_samples_leaf=5, n_estimators=500, score=0.836, total=   5.3s\n",
      "[CV] max_depth=20, min_samples_leaf=5, n_estimators=700 ..............\n",
      "[CV]  max_depth=20, min_samples_leaf=5, n_estimators=700, score=0.838, total=   7.6s\n",
      "[CV] max_depth=20, min_samples_leaf=5, n_estimators=700 ..............\n"
     ]
    },
    {
     "name": "stdout",
     "output_type": "stream",
     "text": [
      "[CV]  max_depth=20, min_samples_leaf=5, n_estimators=700, score=0.838, total=   7.4s\n",
      "[CV] max_depth=20, min_samples_leaf=5, n_estimators=700 ..............\n",
      "[CV]  max_depth=20, min_samples_leaf=5, n_estimators=700, score=0.839, total=   7.3s\n",
      "[CV] max_depth=20, min_samples_leaf=5, n_estimators=700 ..............\n",
      "[CV]  max_depth=20, min_samples_leaf=5, n_estimators=700, score=0.837, total=   7.4s\n",
      "[CV] max_depth=20, min_samples_leaf=5, n_estimators=700 ..............\n",
      "[CV]  max_depth=20, min_samples_leaf=5, n_estimators=700, score=0.837, total=   7.1s\n",
      "[CV] max_depth=20, min_samples_leaf=7, n_estimators=200 ..............\n",
      "[CV]  max_depth=20, min_samples_leaf=7, n_estimators=200, score=0.839, total=   2.0s\n",
      "[CV] max_depth=20, min_samples_leaf=7, n_estimators=200 ..............\n",
      "[CV]  max_depth=20, min_samples_leaf=7, n_estimators=200, score=0.838, total=   2.1s\n",
      "[CV] max_depth=20, min_samples_leaf=7, n_estimators=200 ..............\n",
      "[CV]  max_depth=20, min_samples_leaf=7, n_estimators=200, score=0.839, total=   2.0s\n",
      "[CV] max_depth=20, min_samples_leaf=7, n_estimators=200 ..............\n",
      "[CV]  max_depth=20, min_samples_leaf=7, n_estimators=200, score=0.837, total=   2.0s\n",
      "[CV] max_depth=20, min_samples_leaf=7, n_estimators=200 ..............\n",
      "[CV]  max_depth=20, min_samples_leaf=7, n_estimators=200, score=0.837, total=   2.0s\n",
      "[CV] max_depth=20, min_samples_leaf=7, n_estimators=500 ..............\n",
      "[CV]  max_depth=20, min_samples_leaf=7, n_estimators=500, score=0.838, total=   5.1s\n",
      "[CV] max_depth=20, min_samples_leaf=7, n_estimators=500 ..............\n",
      "[CV]  max_depth=20, min_samples_leaf=7, n_estimators=500, score=0.838, total=   4.9s\n",
      "[CV] max_depth=20, min_samples_leaf=7, n_estimators=500 ..............\n",
      "[CV]  max_depth=20, min_samples_leaf=7, n_estimators=500, score=0.839, total=   5.1s\n",
      "[CV] max_depth=20, min_samples_leaf=7, n_estimators=500 ..............\n",
      "[CV]  max_depth=20, min_samples_leaf=7, n_estimators=500, score=0.838, total=   4.9s\n",
      "[CV] max_depth=20, min_samples_leaf=7, n_estimators=500 ..............\n",
      "[CV]  max_depth=20, min_samples_leaf=7, n_estimators=500, score=0.837, total=   5.2s\n",
      "[CV] max_depth=20, min_samples_leaf=7, n_estimators=700 ..............\n",
      "[CV]  max_depth=20, min_samples_leaf=7, n_estimators=700, score=0.839, total=   7.0s\n",
      "[CV] max_depth=20, min_samples_leaf=7, n_estimators=700 ..............\n",
      "[CV]  max_depth=20, min_samples_leaf=7, n_estimators=700, score=0.838, total=   6.8s\n",
      "[CV] max_depth=20, min_samples_leaf=7, n_estimators=700 ..............\n",
      "[CV]  max_depth=20, min_samples_leaf=7, n_estimators=700, score=0.839, total=   7.2s\n",
      "[CV] max_depth=20, min_samples_leaf=7, n_estimators=700 ..............\n",
      "[CV]  max_depth=20, min_samples_leaf=7, n_estimators=700, score=0.839, total=   8.7s\n",
      "[CV] max_depth=20, min_samples_leaf=7, n_estimators=700 ..............\n",
      "[CV]  max_depth=20, min_samples_leaf=7, n_estimators=700, score=0.837, total=   7.0s\n"
     ]
    },
    {
     "name": "stderr",
     "output_type": "stream",
     "text": [
      "[Parallel(n_jobs=1)]: Done 180 out of 180 | elapsed: 22.5min finished\n"
     ]
    },
    {
     "data": {
      "text/plain": [
       "GridSearchCV(cv=None, error_score=nan,\n",
       "             estimator=RandomForestClassifier(bootstrap=True, ccp_alpha=0.0,\n",
       "                                              class_weight=None,\n",
       "                                              criterion='gini', max_depth=None,\n",
       "                                              max_features='auto',\n",
       "                                              max_leaf_nodes=None,\n",
       "                                              max_samples=None,\n",
       "                                              min_impurity_decrease=0.0,\n",
       "                                              min_impurity_split=None,\n",
       "                                              min_samples_leaf=1,\n",
       "                                              min_samples_split=2,\n",
       "                                              min_weight_fraction_leaf=0.0,\n",
       "                                              n_estimators=100, n_jobs=None,\n",
       "                                              oob_score=False,\n",
       "                                              random_state=None, verbose=0,\n",
       "                                              warm_start=False),\n",
       "             iid='deprecated', n_jobs=None,\n",
       "             param_grid={'max_depth': [10, 15, 18, 20],\n",
       "                         'min_samples_leaf': [3, 5, 7],\n",
       "                         'n_estimators': [200, 500, 700]},\n",
       "             pre_dispatch='2*n_jobs', refit=True, return_train_score=False,\n",
       "             scoring=None, verbose=3)"
      ]
     },
     "execution_count": 30,
     "metadata": {},
     "output_type": "execute_result"
    }
   ],
   "source": [
    "gs.fit(train, y_train)"
   ]
  },
  {
   "cell_type": "code",
   "execution_count": 31,
   "metadata": {},
   "outputs": [
    {
     "data": {
      "text/plain": [
       "RandomForestClassifier(bootstrap=True, ccp_alpha=0.0, class_weight=None,\n",
       "                       criterion='gini', max_depth=18, max_features='auto',\n",
       "                       max_leaf_nodes=None, max_samples=None,\n",
       "                       min_impurity_decrease=0.0, min_impurity_split=None,\n",
       "                       min_samples_leaf=5, min_samples_split=2,\n",
       "                       min_weight_fraction_leaf=0.0, n_estimators=200,\n",
       "                       n_jobs=None, oob_score=False, random_state=None,\n",
       "                       verbose=0, warm_start=False)"
      ]
     },
     "execution_count": 31,
     "metadata": {},
     "output_type": "execute_result"
    }
   ],
   "source": [
    "gs.best_estimator_"
   ]
  },
  {
   "cell_type": "code",
   "execution_count": 32,
   "metadata": {},
   "outputs": [
    {
     "data": {
      "text/plain": [
       "{'max_depth': 18, 'min_samples_leaf': 5, 'n_estimators': 200}"
      ]
     },
     "execution_count": 32,
     "metadata": {},
     "output_type": "execute_result"
    }
   ],
   "source": [
    "gs.best_params_"
   ]
  },
  {
   "cell_type": "code",
   "execution_count": 33,
   "metadata": {},
   "outputs": [],
   "source": [
    "rf1 = RandomForestClassifier(bootstrap=True, ccp_alpha=0.0, class_weight=None,\n",
    "                       criterion='gini', max_depth=18, max_features='auto',\n",
    "                       max_leaf_nodes=None, max_samples=None,\n",
    "                       min_impurity_decrease=0.0, min_impurity_split=None,\n",
    "                       min_samples_leaf=3, min_samples_split=2,\n",
    "                       min_weight_fraction_leaf=0.0, n_estimators=200,\n",
    "                       n_jobs=None, oob_score=True, random_state=None,\n",
    "                       verbose=0, warm_start=False)"
   ]
  },
  {
   "cell_type": "code",
   "execution_count": 34,
   "metadata": {},
   "outputs": [
    {
     "data": {
      "text/plain": [
       "RandomForestClassifier(bootstrap=True, ccp_alpha=0.0, class_weight=None,\n",
       "                       criterion='gini', max_depth=18, max_features='auto',\n",
       "                       max_leaf_nodes=None, max_samples=None,\n",
       "                       min_impurity_decrease=0.0, min_impurity_split=None,\n",
       "                       min_samples_leaf=3, min_samples_split=2,\n",
       "                       min_weight_fraction_leaf=0.0, n_estimators=200,\n",
       "                       n_jobs=None, oob_score=True, random_state=None,\n",
       "                       verbose=0, warm_start=False)"
      ]
     },
     "execution_count": 34,
     "metadata": {},
     "output_type": "execute_result"
    }
   ],
   "source": [
    "rf1.fit(train,y_train)"
   ]
  },
  {
   "cell_type": "code",
   "execution_count": 35,
   "metadata": {},
   "outputs": [],
   "source": [
    "pred_rf1 = rf1.predict(test)"
   ]
  },
  {
   "cell_type": "code",
   "execution_count": 36,
   "metadata": {},
   "outputs": [
    {
     "name": "stdout",
     "output_type": "stream",
     "text": [
      "0.8455114822546973\n"
     ]
    }
   ],
   "source": [
    "print(accuracy_score(y_test, pred_rf1))"
   ]
  },
  {
   "cell_type": "code",
   "execution_count": 37,
   "metadata": {},
   "outputs": [
    {
     "data": {
      "text/plain": [
       "0.8377708170190551"
      ]
     },
     "execution_count": 37,
     "metadata": {},
     "output_type": "execute_result"
    }
   ],
   "source": [
    "rf1.oob_score_"
   ]
  },
  {
   "cell_type": "code",
   "execution_count": 38,
   "metadata": {},
   "outputs": [
    {
     "data": {
      "text/plain": [
       "array([0.01094488, 0.00602383, 0.01291699, 0.00348789, 0.00536287,\n",
       "       0.00208528, 0.01425853, 0.02508659, 0.10585947, 0.11325063,\n",
       "       0.10849161, 0.10361217, 0.08055788, 0.10901699, 0.10936263,\n",
       "       0.11109133, 0.06215936, 0.00975128, 0.00667982])"
      ]
     },
     "execution_count": 38,
     "metadata": {},
     "output_type": "execute_result"
    }
   ],
   "source": [
    "rf1.feature_importances_"
   ]
  },
  {
   "cell_type": "code",
   "execution_count": 39,
   "metadata": {},
   "outputs": [
    {
     "data": {
      "text/plain": [
       "[(0.11325063376454285, 'installment'),\n",
       " (0.11109132871748051, 'revol.util'),\n",
       " (0.10936262528363982, 'revol.bal'),\n",
       " (0.10901699216447819, 'days.with.cr.line'),\n",
       " (0.108491607406004, 'log.annual.inc'),\n",
       " (0.10585946616092703, 'int.rate'),\n",
       " (0.10361216563055291, 'dti'),\n",
       " (0.08055787528181609, 'fico'),\n",
       " (0.06215935657014243, 'inq.last.6mths'),\n",
       " (0.02508659480408237, 'credit.policy'),\n",
       " (0.014258526585200477, 'purpose_small_business'),\n",
       " (0.012916985811859339, 'purpose_debt_consolidation'),\n",
       " (0.01094487777037561, 'purpose_all_other'),\n",
       " (0.009751282666393857, 'delinq.2yrs'),\n",
       " (0.006679818282049111, 'pub.rec'),\n",
       " (0.006023828541726235, 'purpose_credit_card'),\n",
       " (0.005362866933447172, 'purpose_home_improvement'),\n",
       " (0.0034878902416897455, 'purpose_educational'),\n",
       " (0.0020852773835920166, 'purpose_major_purchase')]"
      ]
     },
     "execution_count": 39,
     "metadata": {},
     "output_type": "execute_result"
    }
   ],
   "source": [
    "sorted(list(zip(rf1.feature_importances_, train.columns)), reverse=True)"
   ]
  },
  {
   "cell_type": "markdown",
   "metadata": {},
   "source": [
    "### Conclusion\n"
   ]
  },
  {
   "cell_type": "markdown",
   "metadata": {},
   "source": [
    "##### Modal predicts overall 84% of accuracy. In the confusion matrix, 305 predications are risky to give the loan\n"
   ]
  },
  {
   "cell_type": "code",
   "execution_count": null,
   "metadata": {},
   "outputs": [],
   "source": []
  }
 ],
 "metadata": {
  "kernelspec": {
   "display_name": "Python 3",
   "language": "python",
   "name": "python3"
  },
  "language_info": {
   "codemirror_mode": {
    "name": "ipython",
    "version": 3
   },
   "file_extension": ".py",
   "mimetype": "text/x-python",
   "name": "python",
   "nbconvert_exporter": "python",
   "pygments_lexer": "ipython3",
   "version": "3.7.6"
  }
 },
 "nbformat": 4,
 "nbformat_minor": 4
}
