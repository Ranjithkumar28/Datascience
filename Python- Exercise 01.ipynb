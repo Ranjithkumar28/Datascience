{
 "cells": [
  {
   "cell_type": "markdown",
   "metadata": {},
   "source": [
    "### The questions for the exercises are given above the cells and the expected output is given below the cell. Please type the code inserting a new cell below the question because if you run the expected output cell the output would vanish! Happy learning! "
   ]
  },
  {
   "cell_type": "markdown",
   "metadata": {},
   "source": [
    "## Exercise Question 1: Given an input list removes the element at index 4 and add it to the 2nd position and also, at the end of the list\n",
    "\n",
    "For example: List = [54, 44, 27, 79, 91, 41]"
   ]
  },
  {
   "cell_type": "code",
   "execution_count": 1,
   "metadata": {},
   "outputs": [
    {
     "name": "stdout",
     "output_type": "stream",
     "text": [
      "Original list  [34, 54, 67, 89, 11, 43, 94]\n",
      "List After removing element at index 4  [34, 54, 67, 89, 43, 94]\n",
      "List after Adding element at index 2  [34, 54, 11, 67, 89, 43, 94]\n",
      "List after Adding element at last  [34, 54, 11, 67, 89, 43, 94, 11]\n"
     ]
    }
   ],
   "source": []
  },
  {
   "cell_type": "code",
   "execution_count": 1,
   "metadata": {},
   "outputs": [
    {
     "name": "stdout",
     "output_type": "stream",
     "text": [
      "Original List [34, 54, 67, 89, 11, 43, 94]\n",
      "List After removing element at index 4 [34, 54, 67, 89, 43, 94]\n",
      "List after Adding element at index 2 [34, 54, 11, 67, 89, 43, 94]\n",
      "List after Adding element at last [34, 54, 11, 67, 89, 43, 94, 11]\n"
     ]
    }
   ],
   "source": [
    "sample_lst = [34, 54, 67, 89, 11, 43, 94]\n",
    "print(\"Original List\", sample_lst)\n",
    "\n",
    "# Removed the 4th element from the list\n",
    "rmv_ele = sample_lst[4]\n",
    "sample_lst.remove(rmv_ele)\n",
    "print(\"List After removing element at index 4\", sample_lst)\n",
    "\n",
    "# Inserted the value at the index 2\n",
    "sample_lst.insert(2, rmv_ele)\n",
    "print(\"List after Adding element at index 2\", sample_lst)\n",
    "\n",
    "# Appended the value at the end of the list\n",
    "sample_lst.append(rmv_ele)\n",
    "print(\"List after Adding element at last\", sample_lst)"
   ]
  },
  {
   "cell_type": "markdown",
   "metadata": {},
   "source": [
    "## Exercise Question 2: Given a two list of equal size create a list of unique elements from both the lists into a seperate list"
   ]
  },
  {
   "cell_type": "code",
   "execution_count": 10,
   "metadata": {
    "scrolled": true
   },
   "outputs": [
    {
     "name": "stdout",
     "output_type": "stream",
     "text": [
      "First List  [2, 3, 4, 5, 6, 7, 8]\n",
      "Second List  [4, 9, 16, 25, 36, 49, 64]\n",
      "[64, 2, 3, 4, 5, 6, 7, 8, 9, 36, 16, 49, 25]\n"
     ]
    }
   ],
   "source": []
  },
  {
   "cell_type": "code",
   "execution_count": 2,
   "metadata": {},
   "outputs": [
    {
     "name": "stdout",
     "output_type": "stream",
     "text": [
      "First list [2, 3, 4, 5, 6, 7, 8]\n",
      "Second list [4, 9, 16, 25, 36, 49, 64]\n",
      "Output [64, 2, 3, 4, 5, 6, 7, 8, 9, 36, 16, 49, 25]\n",
      "Alternative Method Output [64, 2, 3, 4, 5, 6, 7, 8, 9, 36, 16, 49, 25]\n"
     ]
    }
   ],
   "source": [
    "frst_lst = [2, 3, 4, 5, 6, 7, 8]\n",
    "sec_lst = [4, 9, 16, 25, 36, 49, 64]\n",
    "print(\"First list\", frst_lst)\n",
    "print(\"Second list\", sec_lst)\n",
    "\n",
    "# Merge two list using extend method\n",
    "frst_lst.extend(sec_lst)\n",
    "\n",
    "# Converting it set to get unique values and then convert it back to list\n",
    "output = list(set(frst_lst))\n",
    "print(\"Output\", output)\n",
    "\n",
    "# Alternative method \n",
    "unique_lst = list(set(frst_lst + sec_lst))\n",
    "print(\"Alternative Method Output\", unique_lst)"
   ]
  },
  {
   "cell_type": "markdown",
   "metadata": {},
   "source": [
    "## Exercise Question 3: Remove duplicate from a list and create a tuple and find the minimum and maximum number (Hint: Try Functions Min() and Max() ) "
   ]
  },
  {
   "cell_type": "code",
   "execution_count": 11,
   "metadata": {},
   "outputs": [
    {
     "name": "stdout",
     "output_type": "stream",
     "text": [
      "Original list [87, 52, 44, 53, 54, 87, 52, 53]\n",
      "unique list [44, 52, 53, 54, 87]\n",
      "tuple  (44, 52, 53, 54, 87)\n",
      "Minimum number is:  44\n",
      "Maximum number is:  87\n"
     ]
    }
   ],
   "source": []
  },
  {
   "cell_type": "code",
   "execution_count": 4,
   "metadata": {},
   "outputs": [
    {
     "name": "stdout",
     "output_type": "stream",
     "text": [
      "Original list [87, 52, 44, 53, 54, 87, 52, 53]\n",
      "Unique list [44, 52, 53, 54, 87]\n",
      "Tuple (44, 52, 53, 54, 87)\n",
      "Min value 44\n",
      "Max value 87\n"
     ]
    }
   ],
   "source": [
    "orig_lst = [87, 52, 44, 53, 54, 87, 52, 53]\n",
    "print(\"Original list\", orig_lst)\n",
    "\n",
    "# Get unique values\n",
    "unique_lst = list(set(orig_lst))\n",
    "print(\"Unique list\", unique_lst)\n",
    "\n",
    "# Converting list to tuple\n",
    "tuple_lst = tuple(unique_lst)\n",
    "print(\"Tuple\", tuple_lst)\n",
    "\n",
    "# Get Min Values\n",
    "min_val = min(tuple_lst)\n",
    "print(\"Min value\", min_val)\n",
    "\n",
    "# Get Max Values\n",
    "max_val = max(tuple_lst)\n",
    "print(\"Max value\", max_val)"
   ]
  },
  {
   "cell_type": "markdown",
   "metadata": {},
   "source": [
    "## Exercise Question 4: Display the each word in the string Count the number of words in a string and display it (Including the white spaces) "
   ]
  },
  {
   "cell_type": "code",
   "execution_count": 19,
   "metadata": {},
   "outputs": [
    {
     "name": "stdout",
     "output_type": "stream",
     "text": [
      "w h a t ' s   u p ?\n"
     ]
    }
   ],
   "source": [
    "#Printing each words seperately \n",
    "a = \"what's up?\"\n",
    "print(*a)"
   ]
  },
  {
   "cell_type": "code",
   "execution_count": 18,
   "metadata": {},
   "outputs": [
    {
     "name": "stdout",
     "output_type": "stream",
     "text": [
      "The sample string: Welcome to Python\n",
      "Printing each words seperately:  W e l c o m e   t o   P y t h o n\n",
      "The Length of the string 17\n"
     ]
    }
   ],
   "source": []
  },
  {
   "cell_type": "code",
   "execution_count": 5,
   "metadata": {},
   "outputs": [
    {
     "name": "stdout",
     "output_type": "stream",
     "text": [
      "The sample string: Welcome to Python\n",
      "Printing each words seperately: W e l c o m e   t o   P y t h o n\n",
      "The Length of the string: 17\n"
     ]
    }
   ],
   "source": [
    "str = \"Welcome to Python\"\n",
    "print(\"The sample string:\", str)\n",
    "print(\"Printing each words seperately:\", *str)\n",
    "\n",
    "# Print the length of the string\n",
    "print(\"The Length of the string:\", len(str))"
   ]
  },
  {
   "cell_type": "markdown",
   "metadata": {},
   "source": [
    "##  Exercise Question 5: Write a Python program to access dictionary keys element by index. i.e. Use indexing methods to print the first key"
   ]
  },
  {
   "cell_type": "code",
   "execution_count": 27,
   "metadata": {},
   "outputs": [
    {
     "name": "stdout",
     "output_type": "stream",
     "text": [
      "The dictionary is:  {'physics': 80, 'math': 90, 'chemistry': 86}\n",
      "The key element accesed by index:  physics\n"
     ]
    }
   ],
   "source": []
  },
  {
   "cell_type": "code",
   "execution_count": 6,
   "metadata": {},
   "outputs": [
    {
     "name": "stdout",
     "output_type": "stream",
     "text": [
      "The dictionary is: {'physics': 80, 'math': 90, 'chemistry': 86}\n",
      "The key element accesed by index: physics\n"
     ]
    }
   ],
   "source": [
    "sample_lst = [['physics',80],['math',90],['chemistry',86]]\n",
    "\n",
    "# Convert list to dict\n",
    "print(\"The dictionary is:\", dict(sample_lst))\n",
    "      \n",
    "# To access the key element by the index\n",
    "print(\"The key element accesed by index:\", sample_lst[0][0])"
   ]
  }
 ],
 "metadata": {
  "kernelspec": {
   "display_name": "Python 3",
   "language": "python",
   "name": "python3"
  },
  "language_info": {
   "codemirror_mode": {
    "name": "ipython",
    "version": 3
   },
   "file_extension": ".py",
   "mimetype": "text/x-python",
   "name": "python",
   "nbconvert_exporter": "python",
   "pygments_lexer": "ipython3",
   "version": "3.7.6"
  }
 },
 "nbformat": 4,
 "nbformat_minor": 4
}
